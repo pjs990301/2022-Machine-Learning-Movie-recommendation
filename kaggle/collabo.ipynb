{
 "cells": [
  {
   "cell_type": "code",
   "execution_count": 20,
   "metadata": {},
   "outputs": [],
   "source": [
    "import pandas as pd\n",
    "import numpy as np\n",
    "import matplotlib.pyplot as plt\n",
    "import seaborn as sns\n",
    "import pickle\n",
    "from scipy import stats\n",
    "from ast import literal_eval\n",
    "from sklearn.feature_extraction.text import TfidfVectorizer, CountVectorizer\n",
    "from sklearn.metrics.pairwise import linear_kernel, cosine_similarity\n",
    "from nltk.stem.snowball import SnowballStemmer\n",
    "from nltk.stem.wordnet import WordNetLemmatizer\n",
    "from nltk.corpus import wordnet\n",
    "from surprise import Reader, Dataset, SVD\n",
    "from sklearn.model_selection import KFold\n",
    "from surprise.model_selection import cross_validate\n"
   ]
  },
  {
   "cell_type": "code",
   "execution_count": 21,
   "metadata": {},
   "outputs": [
    {
     "data": {
      "text/plain": "   movieId  imdbId  tmdbId  userId  rating   timestamp\n0        1  114709   862.0       7     3.0   851866703\n1        1  114709   862.0       9     4.0   938629179\n2        1  114709   862.0      13     5.0  1331380058\n3        1  114709   862.0      15     2.0   997938310\n4        1  114709   862.0      19     3.0   855190091",
      "text/html": "<div>\n<style scoped>\n    .dataframe tbody tr th:only-of-type {\n        vertical-align: middle;\n    }\n\n    .dataframe tbody tr th {\n        vertical-align: top;\n    }\n\n    .dataframe thead th {\n        text-align: right;\n    }\n</style>\n<table border=\"1\" class=\"dataframe\">\n  <thead>\n    <tr style=\"text-align: right;\">\n      <th></th>\n      <th>movieId</th>\n      <th>imdbId</th>\n      <th>tmdbId</th>\n      <th>userId</th>\n      <th>rating</th>\n      <th>timestamp</th>\n    </tr>\n  </thead>\n  <tbody>\n    <tr>\n      <th>0</th>\n      <td>1</td>\n      <td>114709</td>\n      <td>862.0</td>\n      <td>7</td>\n      <td>3.0</td>\n      <td>851866703</td>\n    </tr>\n    <tr>\n      <th>1</th>\n      <td>1</td>\n      <td>114709</td>\n      <td>862.0</td>\n      <td>9</td>\n      <td>4.0</td>\n      <td>938629179</td>\n    </tr>\n    <tr>\n      <th>2</th>\n      <td>1</td>\n      <td>114709</td>\n      <td>862.0</td>\n      <td>13</td>\n      <td>5.0</td>\n      <td>1331380058</td>\n    </tr>\n    <tr>\n      <th>3</th>\n      <td>1</td>\n      <td>114709</td>\n      <td>862.0</td>\n      <td>15</td>\n      <td>2.0</td>\n      <td>997938310</td>\n    </tr>\n    <tr>\n      <th>4</th>\n      <td>1</td>\n      <td>114709</td>\n      <td>862.0</td>\n      <td>19</td>\n      <td>3.0</td>\n      <td>855190091</td>\n    </tr>\n  </tbody>\n</table>\n</div>"
     },
     "execution_count": 21,
     "metadata": {},
     "output_type": "execute_result"
    }
   ],
   "source": [
    "\n",
    "reader = Reader()\n",
    "\n",
    "ratings_small = pd.read_csv('../data/ratings_small.csv')\n",
    "links_small = pd.read_csv('../data/links_small.csv')\n",
    "\n",
    "ratings_small['movieId'] = ratings_small['movieId'].astype('int')\n",
    "links_small['movieId'] = links_small['movieId'].astype('int')\n",
    "\n",
    "links_small = links_small.merge(ratings_small,on='movieId')\n",
    "links_smalls = links_small[links_small['tmdbId'].notnull()]['tmdbId'].astype('int')\n",
    "\n",
    "links_small.head()"
   ]
  },
  {
   "cell_type": "markdown",
   "metadata": {},
   "source": [
    "linksmall이랑 ratings_small merge 해야됨"
   ]
  },
  {
   "cell_type": "code",
   "execution_count": 22,
   "metadata": {},
   "outputs": [
    {
     "name": "stderr",
     "output_type": "stream",
     "text": [
      "/var/folders/dd/h1chfyx12gbg8nkt2z48_kr00000gn/T/ipykernel_67673/1839456158.py:1: DtypeWarning: Columns (10) have mixed types. Specify dtype option on import or set low_memory=False.\n",
      "  md = pd. read_csv('../data/movies_metadata.csv')\n"
     ]
    },
    {
     "data": {
      "text/plain": "       movieId  imdbId   tmdbId  userId  rating   timestamp  \\\n57496     2968   81633  36819.0       1     1.0  1260759200   \n42609     1953   67116   1051.0       1     4.0  1260759191   \n36253     1405  115641   3179.0       1     1.0  1260759203   \n25666     1061  117665    819.0       1     3.0  1260759182   \n34633     1343  101540   1598.0       1     2.0  1260759131   \n\n                                 title  \n57496                     Time Bandits  \n42609            The French Connection  \n36253  Beavis and Butt-Head Do America  \n25666                         Sleepers  \n34633                        Cape Fear  ",
      "text/html": "<div>\n<style scoped>\n    .dataframe tbody tr th:only-of-type {\n        vertical-align: middle;\n    }\n\n    .dataframe tbody tr th {\n        vertical-align: top;\n    }\n\n    .dataframe thead th {\n        text-align: right;\n    }\n</style>\n<table border=\"1\" class=\"dataframe\">\n  <thead>\n    <tr style=\"text-align: right;\">\n      <th></th>\n      <th>movieId</th>\n      <th>imdbId</th>\n      <th>tmdbId</th>\n      <th>userId</th>\n      <th>rating</th>\n      <th>timestamp</th>\n      <th>title</th>\n    </tr>\n  </thead>\n  <tbody>\n    <tr>\n      <th>57496</th>\n      <td>2968</td>\n      <td>81633</td>\n      <td>36819.0</td>\n      <td>1</td>\n      <td>1.0</td>\n      <td>1260759200</td>\n      <td>Time Bandits</td>\n    </tr>\n    <tr>\n      <th>42609</th>\n      <td>1953</td>\n      <td>67116</td>\n      <td>1051.0</td>\n      <td>1</td>\n      <td>4.0</td>\n      <td>1260759191</td>\n      <td>The French Connection</td>\n    </tr>\n    <tr>\n      <th>36253</th>\n      <td>1405</td>\n      <td>115641</td>\n      <td>3179.0</td>\n      <td>1</td>\n      <td>1.0</td>\n      <td>1260759203</td>\n      <td>Beavis and Butt-Head Do America</td>\n    </tr>\n    <tr>\n      <th>25666</th>\n      <td>1061</td>\n      <td>117665</td>\n      <td>819.0</td>\n      <td>1</td>\n      <td>3.0</td>\n      <td>1260759182</td>\n      <td>Sleepers</td>\n    </tr>\n    <tr>\n      <th>34633</th>\n      <td>1343</td>\n      <td>101540</td>\n      <td>1598.0</td>\n      <td>1</td>\n      <td>2.0</td>\n      <td>1260759131</td>\n      <td>Cape Fear</td>\n    </tr>\n  </tbody>\n</table>\n</div>"
     },
     "execution_count": 22,
     "metadata": {},
     "output_type": "execute_result"
    }
   ],
   "source": [
    "md = pd. read_csv('../data/movies_metadata.csv')\n",
    "md.head()\n",
    "md = md[['title','id']]\n",
    "md.rename(columns = {'id' : 'tmdbId'},inplace=True)\n",
    "md = md.drop([19730, 29503, 35587])\n",
    "md['tmdbId'] = md['tmdbId'].astype('int')\n",
    "\n",
    "\n",
    "links_small = links_small.merge(md,on='tmdbId')\n",
    "links_small = links_small.sort_values(by=['userId'])\n",
    "links_small.head()\n",
    "\n"
   ]
  },
  {
   "cell_type": "code",
   "execution_count": 23,
   "metadata": {},
   "outputs": [
    {
     "data": {
      "text/plain": "<generator object _BaseKFold.split at 0x7f9381d17660>"
     },
     "execution_count": 23,
     "metadata": {},
     "output_type": "execute_result"
    }
   ],
   "source": [
    "data = Dataset.load_from_df(links_small[['userId', 'movieId', 'rating']], reader)\n",
    "kf = KFold(n_splits=5)\n",
    "kf.split(data)"
   ]
  },
  {
   "cell_type": "code",
   "execution_count": 24,
   "metadata": {},
   "outputs": [
    {
     "name": "stdout",
     "output_type": "stream",
     "text": [
      "Evaluating RMSE, MAE of algorithm SVD on 5 split(s).\n",
      "\n",
      "                  Fold 1  Fold 2  Fold 3  Fold 4  Fold 5  Mean    Std     \n",
      "RMSE (testset)    0.8978  0.9007  0.8962  0.9026  0.8907  0.8976  0.0041  \n",
      "MAE (testset)     0.6907  0.6949  0.6916  0.6945  0.6853  0.6914  0.0034  \n",
      "Fit time          0.54    0.53    0.52    0.56    0.52    0.53    0.02    \n",
      "Test time         0.09    0.10    0.09    0.09    0.20    0.11    0.04    \n"
     ]
    },
    {
     "data": {
      "text/plain": "{'test_rmse': array([0.89779137, 0.90074201, 0.89622355, 0.90256255, 0.89071162]),\n 'test_mae': array([0.69072639, 0.69493511, 0.69156632, 0.69446213, 0.68533638]),\n 'fit_time': (0.5416750907897949,\n  0.5347280502319336,\n  0.5172982215881348,\n  0.5554790496826172,\n  0.5154378414154053),\n 'test_time': (0.09112882614135742,\n  0.09727311134338379,\n  0.09004902839660645,\n  0.0926210880279541,\n  0.19821405410766602)}"
     },
     "execution_count": 24,
     "metadata": {},
     "output_type": "execute_result"
    }
   ],
   "source": [
    "\n",
    "svd = SVD(random_state=42)\n",
    "cross_validate(svd, data, measures=['RMSE', 'MAE'], cv=5, verbose=True)"
   ]
  },
  {
   "cell_type": "code",
   "execution_count": 25,
   "metadata": {},
   "outputs": [],
   "source": [
    "trainset = data.build_full_trainset()\n",
    "svd.fit(trainset)\n",
    "\n",
    "# with open('recommendModel.pkl','wb') as f:\n",
    "#     pickle.dump(svd,f)\n",
    "# with open('recommendData.pkl','wb') as f:\n",
    "#     pickle.dump(links_small,f)"
   ]
  },
  {
   "cell_type": "code",
   "execution_count": 26,
   "metadata": {},
   "outputs": [
    {
     "data": {
      "text/plain": "       movieId  imdbId   tmdbId  userId  rating   timestamp  \\\n57496     2968   81633  36819.0       1     1.0  1260759200   \n42609     1953   67116   1051.0       1     4.0  1260759191   \n36253     1405  115641   3179.0       1     1.0  1260759203   \n25666     1061  117665    819.0       1     3.0  1260759182   \n34633     1343  101540   1598.0       1     2.0  1260759131   \n46595     2150   80801   8393.0       1     3.0  1260759194   \n32372     1263   77416  11778.0       1     2.0  1260759151   \n1611        31  112792   9909.0       1     2.5  1260759144   \n35197     1371   79945    152.0       1     2.5  1260759135   \n27288     1129   82340   1103.0       1     2.0  1260759185   \n33548     1287   52618    665.0       1     2.0  1260759187   \n24963     1029   33563  11360.0       1     3.0  1260759179   \n64537     3671   71230  11072.0       1     3.0  1260759117   \n34552     1339  103874   6114.0       1     3.5  1260759125   \n47059     2193   96446    847.0       1     2.0  1260759198   \n45689     2105   84827     97.0       1     4.0  1260759139   \n47989     2294  120587   8916.0       1     2.0  1260759108   \n27705     1172   95765  11216.0       1     4.0  1260759205   \n33876     1293   83987    783.0       1     2.0  1260759148   \n50551     2455   91064   9426.0       1     2.5  1260759113   \n\n                                 title  \n57496                     Time Bandits  \n42609            The French Connection  \n36253  Beavis and Butt-Head Do America  \n25666                         Sleepers  \n34633                        Cape Fear  \n46595           The Gods Must Be Crazy  \n32372                  The Deer Hunter  \n1611                   Dangerous Minds  \n35197    Star Trek: The Motion Picture  \n27288             Escape from New York  \n33548                          Ben-Hur  \n24963                            Dumbo  \n64537                  Blazing Saddles  \n34552                          Dracula  \n47059                           Willow  \n45689                             Tron  \n47989                             Antz  \n27705                  Cinema Paradiso  \n33876                           Gandhi  \n50551                          The Fly  ",
      "text/html": "<div>\n<style scoped>\n    .dataframe tbody tr th:only-of-type {\n        vertical-align: middle;\n    }\n\n    .dataframe tbody tr th {\n        vertical-align: top;\n    }\n\n    .dataframe thead th {\n        text-align: right;\n    }\n</style>\n<table border=\"1\" class=\"dataframe\">\n  <thead>\n    <tr style=\"text-align: right;\">\n      <th></th>\n      <th>movieId</th>\n      <th>imdbId</th>\n      <th>tmdbId</th>\n      <th>userId</th>\n      <th>rating</th>\n      <th>timestamp</th>\n      <th>title</th>\n    </tr>\n  </thead>\n  <tbody>\n    <tr>\n      <th>57496</th>\n      <td>2968</td>\n      <td>81633</td>\n      <td>36819.0</td>\n      <td>1</td>\n      <td>1.0</td>\n      <td>1260759200</td>\n      <td>Time Bandits</td>\n    </tr>\n    <tr>\n      <th>42609</th>\n      <td>1953</td>\n      <td>67116</td>\n      <td>1051.0</td>\n      <td>1</td>\n      <td>4.0</td>\n      <td>1260759191</td>\n      <td>The French Connection</td>\n    </tr>\n    <tr>\n      <th>36253</th>\n      <td>1405</td>\n      <td>115641</td>\n      <td>3179.0</td>\n      <td>1</td>\n      <td>1.0</td>\n      <td>1260759203</td>\n      <td>Beavis and Butt-Head Do America</td>\n    </tr>\n    <tr>\n      <th>25666</th>\n      <td>1061</td>\n      <td>117665</td>\n      <td>819.0</td>\n      <td>1</td>\n      <td>3.0</td>\n      <td>1260759182</td>\n      <td>Sleepers</td>\n    </tr>\n    <tr>\n      <th>34633</th>\n      <td>1343</td>\n      <td>101540</td>\n      <td>1598.0</td>\n      <td>1</td>\n      <td>2.0</td>\n      <td>1260759131</td>\n      <td>Cape Fear</td>\n    </tr>\n    <tr>\n      <th>46595</th>\n      <td>2150</td>\n      <td>80801</td>\n      <td>8393.0</td>\n      <td>1</td>\n      <td>3.0</td>\n      <td>1260759194</td>\n      <td>The Gods Must Be Crazy</td>\n    </tr>\n    <tr>\n      <th>32372</th>\n      <td>1263</td>\n      <td>77416</td>\n      <td>11778.0</td>\n      <td>1</td>\n      <td>2.0</td>\n      <td>1260759151</td>\n      <td>The Deer Hunter</td>\n    </tr>\n    <tr>\n      <th>1611</th>\n      <td>31</td>\n      <td>112792</td>\n      <td>9909.0</td>\n      <td>1</td>\n      <td>2.5</td>\n      <td>1260759144</td>\n      <td>Dangerous Minds</td>\n    </tr>\n    <tr>\n      <th>35197</th>\n      <td>1371</td>\n      <td>79945</td>\n      <td>152.0</td>\n      <td>1</td>\n      <td>2.5</td>\n      <td>1260759135</td>\n      <td>Star Trek: The Motion Picture</td>\n    </tr>\n    <tr>\n      <th>27288</th>\n      <td>1129</td>\n      <td>82340</td>\n      <td>1103.0</td>\n      <td>1</td>\n      <td>2.0</td>\n      <td>1260759185</td>\n      <td>Escape from New York</td>\n    </tr>\n    <tr>\n      <th>33548</th>\n      <td>1287</td>\n      <td>52618</td>\n      <td>665.0</td>\n      <td>1</td>\n      <td>2.0</td>\n      <td>1260759187</td>\n      <td>Ben-Hur</td>\n    </tr>\n    <tr>\n      <th>24963</th>\n      <td>1029</td>\n      <td>33563</td>\n      <td>11360.0</td>\n      <td>1</td>\n      <td>3.0</td>\n      <td>1260759179</td>\n      <td>Dumbo</td>\n    </tr>\n    <tr>\n      <th>64537</th>\n      <td>3671</td>\n      <td>71230</td>\n      <td>11072.0</td>\n      <td>1</td>\n      <td>3.0</td>\n      <td>1260759117</td>\n      <td>Blazing Saddles</td>\n    </tr>\n    <tr>\n      <th>34552</th>\n      <td>1339</td>\n      <td>103874</td>\n      <td>6114.0</td>\n      <td>1</td>\n      <td>3.5</td>\n      <td>1260759125</td>\n      <td>Dracula</td>\n    </tr>\n    <tr>\n      <th>47059</th>\n      <td>2193</td>\n      <td>96446</td>\n      <td>847.0</td>\n      <td>1</td>\n      <td>2.0</td>\n      <td>1260759198</td>\n      <td>Willow</td>\n    </tr>\n    <tr>\n      <th>45689</th>\n      <td>2105</td>\n      <td>84827</td>\n      <td>97.0</td>\n      <td>1</td>\n      <td>4.0</td>\n      <td>1260759139</td>\n      <td>Tron</td>\n    </tr>\n    <tr>\n      <th>47989</th>\n      <td>2294</td>\n      <td>120587</td>\n      <td>8916.0</td>\n      <td>1</td>\n      <td>2.0</td>\n      <td>1260759108</td>\n      <td>Antz</td>\n    </tr>\n    <tr>\n      <th>27705</th>\n      <td>1172</td>\n      <td>95765</td>\n      <td>11216.0</td>\n      <td>1</td>\n      <td>4.0</td>\n      <td>1260759205</td>\n      <td>Cinema Paradiso</td>\n    </tr>\n    <tr>\n      <th>33876</th>\n      <td>1293</td>\n      <td>83987</td>\n      <td>783.0</td>\n      <td>1</td>\n      <td>2.0</td>\n      <td>1260759148</td>\n      <td>Gandhi</td>\n    </tr>\n    <tr>\n      <th>50551</th>\n      <td>2455</td>\n      <td>91064</td>\n      <td>9426.0</td>\n      <td>1</td>\n      <td>2.5</td>\n      <td>1260759113</td>\n      <td>The Fly</td>\n    </tr>\n  </tbody>\n</table>\n</div>"
     },
     "execution_count": 26,
     "metadata": {},
     "output_type": "execute_result"
    }
   ],
   "source": [
    "links_small[links_small['userId'] == 1]"
   ]
  },
  {
   "cell_type": "code",
   "execution_count": 27,
   "metadata": {},
   "outputs": [],
   "source": [
    "rank = []\n",
    "for columns,items in links_small.iterrows():\n",
    "    test = []\n",
    "    test.append(items[6])\n",
    "    test.append(svd.predict(90, items[0])[3])\n",
    "    rank.append(test)\n",
    "\n"
   ]
  },
  {
   "cell_type": "code",
   "execution_count": 28,
   "outputs": [
    {
     "name": "stdout",
     "output_type": "stream",
     "text": [
      "['Time Bandits', 3.8296113601769664]\n",
      "['The French Connection', 4.151184465651257]\n",
      "['Beavis and Butt-Head Do America', 3.554384171641936]\n"
     ]
    },
    {
     "data": {
      "text/plain": "                                         title     score\n68095                            The Godfather  4.624916\n85651                    It Happened One Night  4.621732\n66471                               Roger & Me  4.602859\n5049                               Raging Bull  4.596313\n53885                 The Shawshank Redemption  4.594331\n...                                        ...       ...\n74524  Mighty Morphin Power Rangers: The Movie  2.491238\n51428                           Wild Wild West  2.470930\n74494                              Spice World  2.468620\n15070                        Super Mario Bros.  2.373715\n23263                        Battlefield Earth  1.968380\n\n[9025 rows x 2 columns]",
      "text/html": "<div>\n<style scoped>\n    .dataframe tbody tr th:only-of-type {\n        vertical-align: middle;\n    }\n\n    .dataframe tbody tr th {\n        vertical-align: top;\n    }\n\n    .dataframe thead th {\n        text-align: right;\n    }\n</style>\n<table border=\"1\" class=\"dataframe\">\n  <thead>\n    <tr style=\"text-align: right;\">\n      <th></th>\n      <th>title</th>\n      <th>score</th>\n    </tr>\n  </thead>\n  <tbody>\n    <tr>\n      <th>68095</th>\n      <td>The Godfather</td>\n      <td>4.624916</td>\n    </tr>\n    <tr>\n      <th>85651</th>\n      <td>It Happened One Night</td>\n      <td>4.621732</td>\n    </tr>\n    <tr>\n      <th>66471</th>\n      <td>Roger &amp; Me</td>\n      <td>4.602859</td>\n    </tr>\n    <tr>\n      <th>5049</th>\n      <td>Raging Bull</td>\n      <td>4.596313</td>\n    </tr>\n    <tr>\n      <th>53885</th>\n      <td>The Shawshank Redemption</td>\n      <td>4.594331</td>\n    </tr>\n    <tr>\n      <th>...</th>\n      <td>...</td>\n      <td>...</td>\n    </tr>\n    <tr>\n      <th>74524</th>\n      <td>Mighty Morphin Power Rangers: The Movie</td>\n      <td>2.491238</td>\n    </tr>\n    <tr>\n      <th>51428</th>\n      <td>Wild Wild West</td>\n      <td>2.470930</td>\n    </tr>\n    <tr>\n      <th>74494</th>\n      <td>Spice World</td>\n      <td>2.468620</td>\n    </tr>\n    <tr>\n      <th>15070</th>\n      <td>Super Mario Bros.</td>\n      <td>2.373715</td>\n    </tr>\n    <tr>\n      <th>23263</th>\n      <td>Battlefield Earth</td>\n      <td>1.968380</td>\n    </tr>\n  </tbody>\n</table>\n<p>9025 rows × 2 columns</p>\n</div>"
     },
     "execution_count": 28,
     "metadata": {},
     "output_type": "execute_result"
    }
   ],
   "source": [
    "print(rank[0])\n",
    "print(rank[1])\n",
    "print(rank[2])\n",
    "\n",
    "df = pd.DataFrame(data = rank,columns= ['title','score'])\n",
    "df.sort_values(ascending=False,by='score',inplace=True)\n",
    "df.drop_duplicates(subset=None, keep='first', inplace=True, ignore_index=False)\n",
    "df"
   ],
   "metadata": {
    "collapsed": false
   }
  }
 ],
 "metadata": {
  "kernelspec": {
   "display_name": "Python 3.9.12 ('base')",
   "language": "python",
   "name": "python3"
  },
  "language_info": {
   "codemirror_mode": {
    "name": "ipython",
    "version": 3
   },
   "file_extension": ".py",
   "mimetype": "text/x-python",
   "name": "python",
   "nbconvert_exporter": "python",
   "pygments_lexer": "ipython3",
   "version": "3.9.12"
  },
  "orig_nbformat": 4,
  "vscode": {
   "interpreter": {
    "hash": "5b27bb84bef7c939ee7d6f117f1e60469a1cb2d9f9e8bcb914461a2fedf7884d"
   }
  }
 },
 "nbformat": 4,
 "nbformat_minor": 2
}

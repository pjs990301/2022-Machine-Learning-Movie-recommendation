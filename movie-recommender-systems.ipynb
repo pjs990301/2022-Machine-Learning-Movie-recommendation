{
 "cells": [
  {
   "cell_type": "markdown",
   "metadata": {
    "_cell_guid": "da447453-96e3-48fe-93cd-b9195433add6",
    "_uuid": "b63091dc0b9d04f19ab8861754a83b79c1789e96"
   },
   "source": [
    "# Movies Recommender System"
   ]
  },
  {
   "cell_type": "markdown",
   "metadata": {
    "_cell_guid": "351091d0-4223-4510-b737-3d109883c4bf",
    "_uuid": "c9e02ccf7a6f04280a8a949fe82cc3c12f8a769f"
   },
   "source": [
    "This is the second part of my Springboard Capstone Project on Movie Data Analysis and Recommendation Systems. In my first notebook ( [The Story of Film](https://www.kaggle.com/rounakbanik/the-story-of-film/) ), I attempted at narrating the story of film by performing an extensive exploratory data analysis on Movies Metadata collected from TMDB. I also built two extremely minimalist predictive models to predict movie revenue and movie success and visualise which features influence the output (revenue and success respectively).\n",
    "\n",
    "In this notebook, I will attempt at implementing a few recommendation algorithms (content based, popularity based and collaborative filtering) and try to build an ensemble of these models to come up with our final recommendation system. With us, we have two MovieLens datasets.\n",
    "\n",
    "* **The Full Dataset:** Consists of 26,000,000 ratings and 750,000 tag applications applied to 45,000 movies by 270,000 users. Includes tag genome data with 12 million relevance scores across 1,100 tags.\n",
    "* **The Small Dataset:** Comprises of 100,000 ratings and 1,300 tag applications applied to 9,000 movies by 700 users.\n",
    "\n",
    "I will build a Simple Recommender using movies from the *Full Dataset* whereas all personalised recommender systems will make use of the small dataset (due to the computing power I possess being very limited). As a first step, I will build my simple recommender system."
   ]
  },
  {
   "cell_type": "code",
   "execution_count": 298,
   "metadata": {
    "_cell_guid": "78fea705-f9ad-4a81-aafd-8b7b624110d1",
    "_uuid": "1c291fe3725c706e0003f01f0102abb9709f25fc",
    "collapsed": true
   },
   "outputs": [],
   "source": [
    "%matplotlib inline\n",
    "import pandas as pd\n",
    "import numpy as np\n",
    "import matplotlib.pyplot as plt\n",
    "import seaborn as sns\n",
    "from scipy import stats\n",
    "from ast import literal_eval\n",
    "from sklearn.feature_extraction.text import TfidfVectorizer, CountVectorizer\n",
    "from sklearn.metrics.pairwise import linear_kernel, cosine_similarity\n",
    "from nltk.stem.snowball import SnowballStemmer\n",
    "from nltk.stem.wordnet import WordNetLemmatizer\n",
    "from nltk.corpus import wordnet\n",
    "from surprise import Reader, Dataset, SVD\n",
    "\n",
    "import warnings; warnings.simplefilter('ignore')"
   ]
  },
  {
   "cell_type": "markdown",
   "metadata": {
    "_cell_guid": "f130bae8-1bb0-415d-9a39-557fe180b490",
    "_uuid": "49131e65f312719487848f6ef42488041a44028e"
   },
   "source": [
    "## Simple Recommender\n",
    "\n",
    "The Simple Recommender offers generalized recommnendations to every user based on movie popularity and (sometimes) genre. The basic idea behind this recommender is that movies that are more popular and more critically acclaimed will have a higher probability of being liked by the average audience. This model does not give personalized recommendations based on the user. \n",
    "\n",
    "The implementation of this model is extremely trivial. All we have to do is sort our movies based on ratings and popularity and display the top movies of our list. As an added step, we can pass in a genre argument to get the top movies of a particular genre. "
   ]
  },
  {
   "cell_type": "code",
   "execution_count": 299,
   "metadata": {
    "_cell_guid": "0356d2a0-d8b2-4234-af78-bd51eaa3a390",
    "_uuid": "e0d62612bc9b9e9561afdc48fd1e75a9b0c82337"
   },
   "outputs": [
    {
     "data": {
      "text/plain": "   adult                              belongs_to_collection    budget  \\\n0  False  {'id': 10194, 'name': 'Toy Story Collection', ...  30000000   \n1  False                                                NaN  65000000   \n2  False  {'id': 119050, 'name': 'Grumpy Old Men Collect...         0   \n3  False                                                NaN  16000000   \n4  False  {'id': 96871, 'name': 'Father of the Bride Col...         0   \n\n                                              genres  \\\n0  [{'id': 16, 'name': 'Animation'}, {'id': 35, '...   \n1  [{'id': 12, 'name': 'Adventure'}, {'id': 14, '...   \n2  [{'id': 10749, 'name': 'Romance'}, {'id': 35, ...   \n3  [{'id': 35, 'name': 'Comedy'}, {'id': 18, 'nam...   \n4                     [{'id': 35, 'name': 'Comedy'}]   \n\n                               homepage     id    imdb_id original_language  \\\n0  http://toystory.disney.com/toy-story    862  tt0114709                en   \n1                                   NaN   8844  tt0113497                en   \n2                                   NaN  15602  tt0113228                en   \n3                                   NaN  31357  tt0114885                en   \n4                                   NaN  11862  tt0113041                en   \n\n                original_title  \\\n0                    Toy Story   \n1                      Jumanji   \n2             Grumpier Old Men   \n3            Waiting to Exhale   \n4  Father of the Bride Part II   \n\n                                            overview  ... release_date  \\\n0  Led by Woody, Andy's toys live happily in his ...  ...   1995-10-30   \n1  When siblings Judy and Peter discover an encha...  ...   1995-12-15   \n2  A family wedding reignites the ancient feud be...  ...   1995-12-22   \n3  Cheated on, mistreated and stepped on, the wom...  ...   1995-12-22   \n4  Just when George Banks has recovered from his ...  ...   1995-02-10   \n\n       revenue runtime                                   spoken_languages  \\\n0  373554033.0    81.0           [{'iso_639_1': 'en', 'name': 'English'}]   \n1  262797249.0   104.0  [{'iso_639_1': 'en', 'name': 'English'}, {'iso...   \n2          0.0   101.0           [{'iso_639_1': 'en', 'name': 'English'}]   \n3   81452156.0   127.0           [{'iso_639_1': 'en', 'name': 'English'}]   \n4   76578911.0   106.0           [{'iso_639_1': 'en', 'name': 'English'}]   \n\n     status                                            tagline  \\\n0  Released                                                NaN   \n1  Released          Roll the dice and unleash the excitement!   \n2  Released  Still Yelling. Still Fighting. Still Ready for...   \n3  Released  Friends are the people who let you be yourself...   \n4  Released  Just When His World Is Back To Normal... He's ...   \n\n                         title  video vote_average vote_count  \n0                    Toy Story  False          7.7     5415.0  \n1                      Jumanji  False          6.9     2413.0  \n2             Grumpier Old Men  False          6.5       92.0  \n3            Waiting to Exhale  False          6.1       34.0  \n4  Father of the Bride Part II  False          5.7      173.0  \n\n[5 rows x 24 columns]",
      "text/html": "<div>\n<style scoped>\n    .dataframe tbody tr th:only-of-type {\n        vertical-align: middle;\n    }\n\n    .dataframe tbody tr th {\n        vertical-align: top;\n    }\n\n    .dataframe thead th {\n        text-align: right;\n    }\n</style>\n<table border=\"1\" class=\"dataframe\">\n  <thead>\n    <tr style=\"text-align: right;\">\n      <th></th>\n      <th>adult</th>\n      <th>belongs_to_collection</th>\n      <th>budget</th>\n      <th>genres</th>\n      <th>homepage</th>\n      <th>id</th>\n      <th>imdb_id</th>\n      <th>original_language</th>\n      <th>original_title</th>\n      <th>overview</th>\n      <th>...</th>\n      <th>release_date</th>\n      <th>revenue</th>\n      <th>runtime</th>\n      <th>spoken_languages</th>\n      <th>status</th>\n      <th>tagline</th>\n      <th>title</th>\n      <th>video</th>\n      <th>vote_average</th>\n      <th>vote_count</th>\n    </tr>\n  </thead>\n  <tbody>\n    <tr>\n      <th>0</th>\n      <td>False</td>\n      <td>{'id': 10194, 'name': 'Toy Story Collection', ...</td>\n      <td>30000000</td>\n      <td>[{'id': 16, 'name': 'Animation'}, {'id': 35, '...</td>\n      <td>http://toystory.disney.com/toy-story</td>\n      <td>862</td>\n      <td>tt0114709</td>\n      <td>en</td>\n      <td>Toy Story</td>\n      <td>Led by Woody, Andy's toys live happily in his ...</td>\n      <td>...</td>\n      <td>1995-10-30</td>\n      <td>373554033.0</td>\n      <td>81.0</td>\n      <td>[{'iso_639_1': 'en', 'name': 'English'}]</td>\n      <td>Released</td>\n      <td>NaN</td>\n      <td>Toy Story</td>\n      <td>False</td>\n      <td>7.7</td>\n      <td>5415.0</td>\n    </tr>\n    <tr>\n      <th>1</th>\n      <td>False</td>\n      <td>NaN</td>\n      <td>65000000</td>\n      <td>[{'id': 12, 'name': 'Adventure'}, {'id': 14, '...</td>\n      <td>NaN</td>\n      <td>8844</td>\n      <td>tt0113497</td>\n      <td>en</td>\n      <td>Jumanji</td>\n      <td>When siblings Judy and Peter discover an encha...</td>\n      <td>...</td>\n      <td>1995-12-15</td>\n      <td>262797249.0</td>\n      <td>104.0</td>\n      <td>[{'iso_639_1': 'en', 'name': 'English'}, {'iso...</td>\n      <td>Released</td>\n      <td>Roll the dice and unleash the excitement!</td>\n      <td>Jumanji</td>\n      <td>False</td>\n      <td>6.9</td>\n      <td>2413.0</td>\n    </tr>\n    <tr>\n      <th>2</th>\n      <td>False</td>\n      <td>{'id': 119050, 'name': 'Grumpy Old Men Collect...</td>\n      <td>0</td>\n      <td>[{'id': 10749, 'name': 'Romance'}, {'id': 35, ...</td>\n      <td>NaN</td>\n      <td>15602</td>\n      <td>tt0113228</td>\n      <td>en</td>\n      <td>Grumpier Old Men</td>\n      <td>A family wedding reignites the ancient feud be...</td>\n      <td>...</td>\n      <td>1995-12-22</td>\n      <td>0.0</td>\n      <td>101.0</td>\n      <td>[{'iso_639_1': 'en', 'name': 'English'}]</td>\n      <td>Released</td>\n      <td>Still Yelling. Still Fighting. Still Ready for...</td>\n      <td>Grumpier Old Men</td>\n      <td>False</td>\n      <td>6.5</td>\n      <td>92.0</td>\n    </tr>\n    <tr>\n      <th>3</th>\n      <td>False</td>\n      <td>NaN</td>\n      <td>16000000</td>\n      <td>[{'id': 35, 'name': 'Comedy'}, {'id': 18, 'nam...</td>\n      <td>NaN</td>\n      <td>31357</td>\n      <td>tt0114885</td>\n      <td>en</td>\n      <td>Waiting to Exhale</td>\n      <td>Cheated on, mistreated and stepped on, the wom...</td>\n      <td>...</td>\n      <td>1995-12-22</td>\n      <td>81452156.0</td>\n      <td>127.0</td>\n      <td>[{'iso_639_1': 'en', 'name': 'English'}]</td>\n      <td>Released</td>\n      <td>Friends are the people who let you be yourself...</td>\n      <td>Waiting to Exhale</td>\n      <td>False</td>\n      <td>6.1</td>\n      <td>34.0</td>\n    </tr>\n    <tr>\n      <th>4</th>\n      <td>False</td>\n      <td>{'id': 96871, 'name': 'Father of the Bride Col...</td>\n      <td>0</td>\n      <td>[{'id': 35, 'name': 'Comedy'}]</td>\n      <td>NaN</td>\n      <td>11862</td>\n      <td>tt0113041</td>\n      <td>en</td>\n      <td>Father of the Bride Part II</td>\n      <td>Just when George Banks has recovered from his ...</td>\n      <td>...</td>\n      <td>1995-02-10</td>\n      <td>76578911.0</td>\n      <td>106.0</td>\n      <td>[{'iso_639_1': 'en', 'name': 'English'}]</td>\n      <td>Released</td>\n      <td>Just When His World Is Back To Normal... He's ...</td>\n      <td>Father of the Bride Part II</td>\n      <td>False</td>\n      <td>5.7</td>\n      <td>173.0</td>\n    </tr>\n  </tbody>\n</table>\n<p>5 rows × 24 columns</p>\n</div>"
     },
     "execution_count": 299,
     "metadata": {},
     "output_type": "execute_result"
    }
   ],
   "source": [
    "md = pd. read_csv('./data/movies_metadata.csv')\n",
    "md.head()"
   ]
  },
  {
   "cell_type": "code",
   "execution_count": 300,
   "metadata": {
    "_cell_guid": "f933a861-409a-4df7-98f1-7960a2a3874b",
    "_uuid": "d4df4c2158595611f2ea7ad4b16f71900e529ea8",
    "collapsed": true
   },
   "outputs": [],
   "source": [
    "md['genres'] = md['genres'].fillna('[]').apply(literal_eval).apply(lambda x: [i['name'] for i in x] if isinstance(x, list) else [])"
   ]
  },
  {
   "cell_type": "markdown",
   "metadata": {
    "_cell_guid": "23cf39ba-ef09-4972-9d1f-ed91cb2ef134",
    "_uuid": "9571875d383f237f126febe9c76f966e2869fdc3"
   },
   "source": [
    "I use the TMDB Ratings to come up with our **Top Movies Chart.** I will use IMDB's *weighted rating* formula to construct my chart. Mathematically, it is represented as follows:\n",
    "\n",
    "Weighted Rating (WR) = $(\\frac{v}{v + m} . R) + (\\frac{m}{v + m} . C)$\n",
    "\n",
    "where,\n",
    "* *v* is the number of votes for the movie\n",
    "* *m* is the minimum votes required to be listed in the chart\n",
    "* *R* is the average rating of the movie\n",
    "* *C* is the mean vote across the whole report\n",
    "\n",
    "The next step is to determine an appropriate value for *m*, the minimum votes required to be listed in the chart. We will use **95th percentile** as our cutoff. In other words, for a movie to feature in the charts, it must have more votes than at least 95% of the movies in the list.\n",
    "\n",
    "I will build our overall Top 250 Chart and will define a function to build charts for a particular genre. Let's begin!"
   ]
  },
  {
   "cell_type": "code",
   "execution_count": 301,
   "metadata": {
    "_cell_guid": "de5d2a9a-9d67-4309-9256-844756318bd0",
    "_uuid": "1e732487caba09d9543f3da49cbe7ff5092e2675"
   },
   "outputs": [
    {
     "data": {
      "text/plain": "5.244896612406511"
     },
     "execution_count": 301,
     "metadata": {},
     "output_type": "execute_result"
    }
   ],
   "source": [
    "vote_counts = md[md['vote_count'].notnull()]['vote_count'].astype('int')\n",
    "vote_averages = md[md['vote_average'].notnull()]['vote_average'].astype('int')\n",
    "C = vote_averages.mean()\n",
    "C"
   ]
  },
  {
   "cell_type": "code",
   "execution_count": 302,
   "metadata": {
    "_cell_guid": "f2a3dff7-6430-471b-bd83-589779ab52b0",
    "_uuid": "23c2e113380f1bad9205ab2d0f8c372b0c246e79"
   },
   "outputs": [
    {
     "data": {
      "text/plain": "434.0"
     },
     "execution_count": 302,
     "metadata": {},
     "output_type": "execute_result"
    }
   ],
   "source": [
    "m = vote_counts.quantile(0.95)\n",
    "m"
   ]
  },
  {
   "cell_type": "code",
   "execution_count": 303,
   "metadata": {
    "_cell_guid": "93f480df-6e7b-427c-bbc0-906fd41640b0",
    "_uuid": "dbb8261dedb84e4a8ea8bed843c9de3ad9f3859d",
    "collapsed": true
   },
   "outputs": [],
   "source": [
    "md['year'] = pd.to_datetime(md['release_date'], errors='coerce').apply(lambda x: str(x).split('-')[0] if x != np.nan else np.nan)"
   ]
  },
  {
   "cell_type": "code",
   "execution_count": 304,
   "metadata": {
    "_cell_guid": "e7e91af4-7ff5-4553-bfbb-b9339096397e",
    "_uuid": "dcb30bee69ef1a6ead2c745565e5e7bfd5314d7a"
   },
   "outputs": [
    {
     "data": {
      "text/plain": "(2274, 6)"
     },
     "execution_count": 304,
     "metadata": {},
     "output_type": "execute_result"
    }
   ],
   "source": [
    "qualified = md[(md['vote_count'] >= m) & (md['vote_count'].notnull()) & (md['vote_average'].notnull())][['title', 'year', 'vote_count', 'vote_average', 'popularity', 'genres']]\n",
    "qualified['vote_count'] = qualified['vote_count'].astype('int')\n",
    "qualified['vote_average'] = qualified['vote_average'].astype('int')\n",
    "qualified.shape"
   ]
  },
  {
   "cell_type": "markdown",
   "metadata": {
    "_cell_guid": "46efcb66-53a0-4f6a-b0df-92ba7b623143",
    "_uuid": "4c114ab330fc78c91953166d515a8e963ebc3238"
   },
   "source": [
    "Therefore, to qualify to be considered for the chart, a movie has to have at least **434 votes** on TMDB. We also see that the average rating for a movie on TMDB is **5.244** on a scale of 10. **2274** Movies qualify to be on our chart."
   ]
  },
  {
   "cell_type": "code",
   "execution_count": 305,
   "metadata": {
    "_cell_guid": "db959c40-7618-4755-a05a-5347f9460929",
    "_uuid": "6414e1aa7ed8cb4184ec451f02a18cd187e5345e",
    "collapsed": true
   },
   "outputs": [],
   "source": [
    "def weighted_rating(x):\n",
    "    v = x['vote_count']\n",
    "    R = x['vote_average']\n",
    "    return (v/(v+m) * R) + (m/(m+v) * C)"
   ]
  },
  {
   "cell_type": "code",
   "execution_count": 306,
   "metadata": {
    "_cell_guid": "0f5e4384-51be-41df-a023-12a13e77d66c",
    "_uuid": "78ec5052b0e89ae51a834aa3a305cf55b6849f42",
    "collapsed": true
   },
   "outputs": [],
   "source": [
    "qualified['wr'] = qualified.apply(weighted_rating, axis=1)"
   ]
  },
  {
   "cell_type": "code",
   "execution_count": 307,
   "metadata": {
    "_cell_guid": "ccbd8eca-cbfe-4843-9885-de11976f117c",
    "_uuid": "ed0ac7c8483f904d4f5ec0d554096d4782fa8bcf",
    "collapsed": true
   },
   "outputs": [],
   "source": [
    "qualified = qualified.sort_values('wr', ascending=False).head(250)"
   ]
  },
  {
   "cell_type": "markdown",
   "metadata": {
    "_cell_guid": "36a1b9ac-aff3-4d80-9e19-83a45f282062",
    "_uuid": "75eb9e1de05386d229746785a25c6a5c6ee4b61a"
   },
   "source": [
    "### Top Movies"
   ]
  },
  {
   "cell_type": "code",
   "execution_count": 308,
   "metadata": {
    "_cell_guid": "0bca5b03-0835-4902-aaa1-beceb9d9d47f",
    "_uuid": "f7f6821b7e9aff099b81fcc425fd20109894b351"
   },
   "outputs": [
    {
     "data": {
      "text/plain": "                                                   title  year  vote_count  \\\n15480                                          Inception  2010       14075   \n12481                                    The Dark Knight  2008       12269   \n22879                                       Interstellar  2014       11187   \n2843                                          Fight Club  1999        9678   \n4863   The Lord of the Rings: The Fellowship of the Ring  2001        8892   \n292                                         Pulp Fiction  1994        8670   \n314                             The Shawshank Redemption  1994        8358   \n7000       The Lord of the Rings: The Return of the King  2003        8226   \n351                                         Forrest Gump  1994        8147   \n5814               The Lord of the Rings: The Two Towers  2002        7641   \n256                                            Star Wars  1977        6778   \n1225                                  Back to the Future  1985        6239   \n834                                        The Godfather  1972        6024   \n1154                             The Empire Strikes Back  1980        5998   \n46                                                 Se7en  1995        5915   \n\n       vote_average  popularity  \\\n15480             8   29.108149   \n12481             8  123.167259   \n22879             8   32.213481   \n2843              8   63.869599   \n4863              8   32.070725   \n292               8  140.950236   \n314               8   51.645403   \n7000              8   29.324358   \n351               8   48.307194   \n5814              8   29.423537   \n256               8   42.149697   \n1225              8   25.778509   \n834               8   41.109264   \n1154              8   19.470959   \n46                8    18.45743   \n\n                                                  genres        wr  \n15480  [Action, Thriller, Science Fiction, Mystery, A...  7.917588  \n12481                   [Drama, Action, Crime, Thriller]  7.905871  \n22879                [Adventure, Drama, Science Fiction]  7.897107  \n2843                                             [Drama]  7.881753  \n4863                        [Adventure, Fantasy, Action]  7.871787  \n292                                    [Thriller, Crime]  7.868660  \n314                                       [Drama, Crime]  7.864000  \n7000                        [Adventure, Fantasy, Action]  7.861927  \n351                             [Comedy, Drama, Romance]  7.860656  \n5814                        [Adventure, Fantasy, Action]  7.851924  \n256                 [Adventure, Action, Science Fiction]  7.834205  \n1225        [Adventure, Comedy, Science Fiction, Family]  7.820813  \n834                                       [Drama, Crime]  7.814847  \n1154                [Adventure, Action, Science Fiction]  7.814099  \n46                            [Crime, Mystery, Thriller]  7.811669  ",
      "text/html": "<div>\n<style scoped>\n    .dataframe tbody tr th:only-of-type {\n        vertical-align: middle;\n    }\n\n    .dataframe tbody tr th {\n        vertical-align: top;\n    }\n\n    .dataframe thead th {\n        text-align: right;\n    }\n</style>\n<table border=\"1\" class=\"dataframe\">\n  <thead>\n    <tr style=\"text-align: right;\">\n      <th></th>\n      <th>title</th>\n      <th>year</th>\n      <th>vote_count</th>\n      <th>vote_average</th>\n      <th>popularity</th>\n      <th>genres</th>\n      <th>wr</th>\n    </tr>\n  </thead>\n  <tbody>\n    <tr>\n      <th>15480</th>\n      <td>Inception</td>\n      <td>2010</td>\n      <td>14075</td>\n      <td>8</td>\n      <td>29.108149</td>\n      <td>[Action, Thriller, Science Fiction, Mystery, A...</td>\n      <td>7.917588</td>\n    </tr>\n    <tr>\n      <th>12481</th>\n      <td>The Dark Knight</td>\n      <td>2008</td>\n      <td>12269</td>\n      <td>8</td>\n      <td>123.167259</td>\n      <td>[Drama, Action, Crime, Thriller]</td>\n      <td>7.905871</td>\n    </tr>\n    <tr>\n      <th>22879</th>\n      <td>Interstellar</td>\n      <td>2014</td>\n      <td>11187</td>\n      <td>8</td>\n      <td>32.213481</td>\n      <td>[Adventure, Drama, Science Fiction]</td>\n      <td>7.897107</td>\n    </tr>\n    <tr>\n      <th>2843</th>\n      <td>Fight Club</td>\n      <td>1999</td>\n      <td>9678</td>\n      <td>8</td>\n      <td>63.869599</td>\n      <td>[Drama]</td>\n      <td>7.881753</td>\n    </tr>\n    <tr>\n      <th>4863</th>\n      <td>The Lord of the Rings: The Fellowship of the Ring</td>\n      <td>2001</td>\n      <td>8892</td>\n      <td>8</td>\n      <td>32.070725</td>\n      <td>[Adventure, Fantasy, Action]</td>\n      <td>7.871787</td>\n    </tr>\n    <tr>\n      <th>292</th>\n      <td>Pulp Fiction</td>\n      <td>1994</td>\n      <td>8670</td>\n      <td>8</td>\n      <td>140.950236</td>\n      <td>[Thriller, Crime]</td>\n      <td>7.868660</td>\n    </tr>\n    <tr>\n      <th>314</th>\n      <td>The Shawshank Redemption</td>\n      <td>1994</td>\n      <td>8358</td>\n      <td>8</td>\n      <td>51.645403</td>\n      <td>[Drama, Crime]</td>\n      <td>7.864000</td>\n    </tr>\n    <tr>\n      <th>7000</th>\n      <td>The Lord of the Rings: The Return of the King</td>\n      <td>2003</td>\n      <td>8226</td>\n      <td>8</td>\n      <td>29.324358</td>\n      <td>[Adventure, Fantasy, Action]</td>\n      <td>7.861927</td>\n    </tr>\n    <tr>\n      <th>351</th>\n      <td>Forrest Gump</td>\n      <td>1994</td>\n      <td>8147</td>\n      <td>8</td>\n      <td>48.307194</td>\n      <td>[Comedy, Drama, Romance]</td>\n      <td>7.860656</td>\n    </tr>\n    <tr>\n      <th>5814</th>\n      <td>The Lord of the Rings: The Two Towers</td>\n      <td>2002</td>\n      <td>7641</td>\n      <td>8</td>\n      <td>29.423537</td>\n      <td>[Adventure, Fantasy, Action]</td>\n      <td>7.851924</td>\n    </tr>\n    <tr>\n      <th>256</th>\n      <td>Star Wars</td>\n      <td>1977</td>\n      <td>6778</td>\n      <td>8</td>\n      <td>42.149697</td>\n      <td>[Adventure, Action, Science Fiction]</td>\n      <td>7.834205</td>\n    </tr>\n    <tr>\n      <th>1225</th>\n      <td>Back to the Future</td>\n      <td>1985</td>\n      <td>6239</td>\n      <td>8</td>\n      <td>25.778509</td>\n      <td>[Adventure, Comedy, Science Fiction, Family]</td>\n      <td>7.820813</td>\n    </tr>\n    <tr>\n      <th>834</th>\n      <td>The Godfather</td>\n      <td>1972</td>\n      <td>6024</td>\n      <td>8</td>\n      <td>41.109264</td>\n      <td>[Drama, Crime]</td>\n      <td>7.814847</td>\n    </tr>\n    <tr>\n      <th>1154</th>\n      <td>The Empire Strikes Back</td>\n      <td>1980</td>\n      <td>5998</td>\n      <td>8</td>\n      <td>19.470959</td>\n      <td>[Adventure, Action, Science Fiction]</td>\n      <td>7.814099</td>\n    </tr>\n    <tr>\n      <th>46</th>\n      <td>Se7en</td>\n      <td>1995</td>\n      <td>5915</td>\n      <td>8</td>\n      <td>18.45743</td>\n      <td>[Crime, Mystery, Thriller]</td>\n      <td>7.811669</td>\n    </tr>\n  </tbody>\n</table>\n</div>"
     },
     "execution_count": 308,
     "metadata": {},
     "output_type": "execute_result"
    }
   ],
   "source": [
    "qualified.head(15)"
   ]
  },
  {
   "cell_type": "markdown",
   "metadata": {
    "_cell_guid": "0942cc17-4e7c-4293-be59-0993261af6e3",
    "_uuid": "dd0636ab9235cef9afab293696b5c57521cc28b9"
   },
   "source": [
    "We see that three Christopher Nolan Films, **Inception**, **The Dark Knight** and **Interstellar** occur at the very top of our chart. The chart also indicates a strong bias of TMDB Users towards particular genres and directors. \n",
    "\n",
    "Let us now construct our function that builds charts for particular genres. For this, we will use relax our default conditions to the **85th** percentile instead of 95. "
   ]
  },
  {
   "cell_type": "code",
   "execution_count": 309,
   "metadata": {
    "_cell_guid": "c6be871d-62d4-4ec4-abe4-6ca1b1c01fa0",
    "_uuid": "b59a35544efcd50e89e4bb1ea14bbfe32fc9bcd3",
    "collapsed": true
   },
   "outputs": [],
   "source": [
    "s = md.apply(lambda x: pd.Series(x['genres']),axis=1).stack().reset_index(level=1, drop=True)\n",
    "s.name = 'genre'\n",
    "gen_md = md.drop('genres', axis=1).join(s)"
   ]
  },
  {
   "cell_type": "code",
   "execution_count": 310,
   "metadata": {
    "_cell_guid": "759652cb-5b16-4951-995c-6a3bdbae0e4e",
    "_uuid": "1fdfea9cd4b046b11ff8f2ac4f2bea74fccb8a8b",
    "collapsed": true
   },
   "outputs": [],
   "source": [
    "def build_chart(genre, percentile=0.85):\n",
    "    df = gen_md[gen_md['genre'] == genre]\n",
    "    vote_counts = df[df['vote_count'].notnull()]['vote_count'].astype('int')\n",
    "    vote_averages = df[df['vote_average'].notnull()]['vote_average'].astype('int')\n",
    "    C = vote_averages.mean()\n",
    "    m = vote_counts.quantile(percentile)\n",
    "    \n",
    "    qualified = df[(df['vote_count'] >= m) & (df['vote_count'].notnull()) & (df['vote_average'].notnull())][['title', 'year', 'vote_count', 'vote_average', 'popularity']]\n",
    "    qualified['vote_count'] = qualified['vote_count'].astype('int')\n",
    "    qualified['vote_average'] = qualified['vote_average'].astype('int')\n",
    "    \n",
    "    qualified['wr'] = qualified.apply(lambda x: (x['vote_count']/(x['vote_count']+m) * x['vote_average']) + (m/(m+x['vote_count']) * C), axis=1)\n",
    "    qualified = qualified.sort_values('wr', ascending=False).head(250)\n",
    "    \n",
    "    return qualified"
   ]
  },
  {
   "cell_type": "markdown",
   "metadata": {
    "_cell_guid": "55f22de0-0df9-405a-9197-df5a8c0e8466",
    "_uuid": "a76ce0f8a8f614aa6f23cb9a6e0fd6af6d048642"
   },
   "source": [
    "Let us see our method in action by displaying the Top 15 Romance Movies (Romance almost didn't feature at all in our Generic Top Chart despite  being one of the most popular movie genres).\n",
    "\n",
    "### Top Romance Movies"
   ]
  },
  {
   "cell_type": "code",
   "execution_count": 311,
   "metadata": {
    "_cell_guid": "af61da24-494b-48ac-b7b7-64ec0eaedaf8",
    "_uuid": "bf2816495a16de1bb84dc826fd33eee7e663f45d"
   },
   "outputs": [
    {
     "data": {
      "text/plain": "                             title  year  vote_count  vote_average popularity  \\\n10309  Dilwale Dulhania Le Jayenge  1995         661             9  34.457024   \n351                   Forrest Gump  1994        8147             8  48.307194   \n876                        Vertigo  1958        1162             8   18.20822   \n40251                   Your Name.  2016        1030             8  34.461252   \n883               Some Like It Hot  1959         835             8  11.845107   \n1132               Cinema Paradiso  1988         834             8  14.177005   \n19901                     Paperman  2012         734             8   7.198633   \n37863                  Sing Street  2016         669             8  10.672862   \n882                  The Apartment  1960         498             8  11.994281   \n38718               The Handmaiden  2016         453             8  16.727405   \n3189                   City Lights  1931         444             8  10.891524   \n24886             The Way He Looks  2014         262             8   5.711274   \n45437               In a Heartbeat  2017         146             8   20.82178   \n1639                       Titanic  1997        7770             7   26.88907   \n19731      Silver Linings Playbook  2012        4840             7  14.488111   \n\n             wr  \n10309  8.565285  \n351    7.971357  \n876    7.811667  \n40251  7.789489  \n883    7.745154  \n1132   7.744878  \n19901  7.713951  \n37863  7.689483  \n882    7.599317  \n38718  7.566166  \n3189   7.558867  \n24886  7.331363  \n45437  7.003959  \n1639   6.981546  \n19731  6.970581  ",
      "text/html": "<div>\n<style scoped>\n    .dataframe tbody tr th:only-of-type {\n        vertical-align: middle;\n    }\n\n    .dataframe tbody tr th {\n        vertical-align: top;\n    }\n\n    .dataframe thead th {\n        text-align: right;\n    }\n</style>\n<table border=\"1\" class=\"dataframe\">\n  <thead>\n    <tr style=\"text-align: right;\">\n      <th></th>\n      <th>title</th>\n      <th>year</th>\n      <th>vote_count</th>\n      <th>vote_average</th>\n      <th>popularity</th>\n      <th>wr</th>\n    </tr>\n  </thead>\n  <tbody>\n    <tr>\n      <th>10309</th>\n      <td>Dilwale Dulhania Le Jayenge</td>\n      <td>1995</td>\n      <td>661</td>\n      <td>9</td>\n      <td>34.457024</td>\n      <td>8.565285</td>\n    </tr>\n    <tr>\n      <th>351</th>\n      <td>Forrest Gump</td>\n      <td>1994</td>\n      <td>8147</td>\n      <td>8</td>\n      <td>48.307194</td>\n      <td>7.971357</td>\n    </tr>\n    <tr>\n      <th>876</th>\n      <td>Vertigo</td>\n      <td>1958</td>\n      <td>1162</td>\n      <td>8</td>\n      <td>18.20822</td>\n      <td>7.811667</td>\n    </tr>\n    <tr>\n      <th>40251</th>\n      <td>Your Name.</td>\n      <td>2016</td>\n      <td>1030</td>\n      <td>8</td>\n      <td>34.461252</td>\n      <td>7.789489</td>\n    </tr>\n    <tr>\n      <th>883</th>\n      <td>Some Like It Hot</td>\n      <td>1959</td>\n      <td>835</td>\n      <td>8</td>\n      <td>11.845107</td>\n      <td>7.745154</td>\n    </tr>\n    <tr>\n      <th>1132</th>\n      <td>Cinema Paradiso</td>\n      <td>1988</td>\n      <td>834</td>\n      <td>8</td>\n      <td>14.177005</td>\n      <td>7.744878</td>\n    </tr>\n    <tr>\n      <th>19901</th>\n      <td>Paperman</td>\n      <td>2012</td>\n      <td>734</td>\n      <td>8</td>\n      <td>7.198633</td>\n      <td>7.713951</td>\n    </tr>\n    <tr>\n      <th>37863</th>\n      <td>Sing Street</td>\n      <td>2016</td>\n      <td>669</td>\n      <td>8</td>\n      <td>10.672862</td>\n      <td>7.689483</td>\n    </tr>\n    <tr>\n      <th>882</th>\n      <td>The Apartment</td>\n      <td>1960</td>\n      <td>498</td>\n      <td>8</td>\n      <td>11.994281</td>\n      <td>7.599317</td>\n    </tr>\n    <tr>\n      <th>38718</th>\n      <td>The Handmaiden</td>\n      <td>2016</td>\n      <td>453</td>\n      <td>8</td>\n      <td>16.727405</td>\n      <td>7.566166</td>\n    </tr>\n    <tr>\n      <th>3189</th>\n      <td>City Lights</td>\n      <td>1931</td>\n      <td>444</td>\n      <td>8</td>\n      <td>10.891524</td>\n      <td>7.558867</td>\n    </tr>\n    <tr>\n      <th>24886</th>\n      <td>The Way He Looks</td>\n      <td>2014</td>\n      <td>262</td>\n      <td>8</td>\n      <td>5.711274</td>\n      <td>7.331363</td>\n    </tr>\n    <tr>\n      <th>45437</th>\n      <td>In a Heartbeat</td>\n      <td>2017</td>\n      <td>146</td>\n      <td>8</td>\n      <td>20.82178</td>\n      <td>7.003959</td>\n    </tr>\n    <tr>\n      <th>1639</th>\n      <td>Titanic</td>\n      <td>1997</td>\n      <td>7770</td>\n      <td>7</td>\n      <td>26.88907</td>\n      <td>6.981546</td>\n    </tr>\n    <tr>\n      <th>19731</th>\n      <td>Silver Linings Playbook</td>\n      <td>2012</td>\n      <td>4840</td>\n      <td>7</td>\n      <td>14.488111</td>\n      <td>6.970581</td>\n    </tr>\n  </tbody>\n</table>\n</div>"
     },
     "execution_count": 311,
     "metadata": {},
     "output_type": "execute_result"
    }
   ],
   "source": [
    "build_chart('Romance').head(15)"
   ]
  },
  {
   "cell_type": "markdown",
   "metadata": {
    "_cell_guid": "b14398c0-cf96-42ec-a12e-84d98231512a",
    "_uuid": "8ffeb5a436b6df369c408c20ba2d6d2b6bfee61b"
   },
   "source": [
    "The top romance movie according to our metrics is Bollywood's **Dilwale Dulhania Le Jayenge**. This Shahrukh Khan starrer also happens to be one of my personal favorites."
   ]
  },
  {
   "cell_type": "markdown",
   "metadata": {
    "_cell_guid": "b6e1eb8b-6109-40ff-ab8a-37bd047c03ac",
    "_uuid": "0b0f95bdf966d06c2d7053535d46183b03a75cc1"
   },
   "source": [
    "## Content Based Recommender\n",
    "\n",
    "The recommender we built in the previous section suffers some severe limitations. For one, it gives the same recommendation to everyone, regardless of the user's personal taste. If a person who loves romantic movies (and hates action) were to look at our Top 15 Chart, s/he wouldn't probably like most of the movies. If s/he were to go one step further and look at our charts by genre, s/he wouldn't still be getting the best recommendations.\n",
    "\n",
    "For instance, consider a person who loves *Dilwale Dulhania Le Jayenge*, *My Name is Khan* and *Kabhi Khushi Kabhi Gham*. One inference we can obtain is that the person loves the actor Shahrukh Khan and the director Karan Johar. Even if s/he were to access the romance chart, s/he wouldn't find these as the top recommendations.\n",
    "\n",
    "To personalise our recommendations more, I am going to build an engine that computes similarity between movies based on certain metrics and suggests movies that are most similar to a particular movie that a user liked. Since we will be using movie metadata (or content) to build this engine, this also known as **Content Based Filtering.**\n",
    "\n",
    "I will build two Content Based Recommenders based on:\n",
    "* Movie Overviews and Taglines\n",
    "* Movie Cast, Crew, Keywords and Genre\n",
    "\n",
    "Also, as mentioned in the introduction, I will be using a subset of all the movies available to us due to limiting computing power available to me. "
   ]
  },
  {
   "cell_type": "code",
   "execution_count": 312,
   "metadata": {
    "_cell_guid": "bd5f4440-f90d-46a4-8640-204541d99d40",
    "_uuid": "dc237e14c8346bdd51624d21b6b082399afd3062",
    "collapsed": true
   },
   "outputs": [],
   "source": [
    "links_small = pd.read_csv('./data/links_small.csv')\n",
    "links_small = links_small[links_small['tmdbId'].notnull()]['tmdbId'].astype('int')"
   ]
  },
  {
   "cell_type": "code",
   "execution_count": 313,
   "metadata": {
    "_cell_guid": "cda91291-c8d5-475a-8b0f-ab4030d29f62",
    "_uuid": "6c5af69fefa991d46594401a5eac0656e5980484",
    "collapsed": true
   },
   "outputs": [],
   "source": [
    "md = md.drop([19730, 29503, 35587])"
   ]
  },
  {
   "cell_type": "code",
   "execution_count": 314,
   "metadata": {
    "_cell_guid": "f68cb861-7c30-4b3d-b655-520379e61d70",
    "_uuid": "87eb84540a3c22a3f7bf54edeee5b491ef571416",
    "collapsed": true
   },
   "outputs": [],
   "source": [
    "#Check EDA Notebook for how and why I got these indices.\n",
    "md['id'] = md['id'].astype('int')"
   ]
  },
  {
   "cell_type": "code",
   "execution_count": 315,
   "metadata": {
    "_cell_guid": "0b968a6a-6b0d-4df6-9e28-91c06e6c36c2",
    "_uuid": "3f2a7f55a030beeb06b713f854e4ca6a69b5ca13"
   },
   "outputs": [
    {
     "data": {
      "text/plain": "(9099, 25)"
     },
     "execution_count": 315,
     "metadata": {},
     "output_type": "execute_result"
    }
   ],
   "source": [
    "smd = md[md['id'].isin(links_small)]\n",
    "smd.shape"
   ]
  },
  {
   "cell_type": "markdown",
   "metadata": {
    "_cell_guid": "0f9e6043-68e8-4b0c-a435-e456e19e9144",
    "_uuid": "1ebd72fcc46ac2ac20016ff34dad40a9f8879ac9"
   },
   "source": [
    "We have **9099** movies avaiable in our small movies metadata dataset which is 5 times smaller than our original dataset of 45000 movies."
   ]
  },
  {
   "cell_type": "markdown",
   "metadata": {
    "_cell_guid": "1e73645a-0b0b-441f-93b4-ce92069e1852",
    "_uuid": "c41800b7a9d8b8d48ba1c22b8430929f54e9884e"
   },
   "source": [
    "### Movie Description Based Recommender\n",
    "\n",
    "Let us first try to build a recommender using movie descriptions and taglines. We do not have a quantitative metric to judge our machine's performance so this will have to be done qualitatively."
   ]
  },
  {
   "cell_type": "code",
   "execution_count": 316,
   "metadata": {
    "_cell_guid": "c880adf9-051b-40cd-8e95-cd8c4acabb17",
    "_uuid": "453bdc941ba5a1e86e17b0f106dc44040c0defdf",
    "collapsed": true
   },
   "outputs": [],
   "source": [
    "smd['tagline'] = smd['tagline'].fillna('')\n",
    "smd['description'] = smd['overview'] + smd['tagline']\n",
    "smd['description'] = smd['description'].fillna('')"
   ]
  },
  {
   "cell_type": "code",
   "execution_count": 317,
   "metadata": {
    "_cell_guid": "6b385623-a978-43c4-b66a-813d5e9c6790",
    "_uuid": "f9d99726d9f2667fa6fc15ce5c5e31d36a970828",
    "collapsed": true
   },
   "outputs": [],
   "source": [
    "tf = TfidfVectorizer(analyzer='word',ngram_range=(1, 2),min_df=0, stop_words='english')\n",
    "tfidf_matrix = tf.fit_transform(smd['description'])"
   ]
  },
  {
   "cell_type": "code",
   "execution_count": 318,
   "metadata": {
    "_cell_guid": "5e18427c-2ef8-4a98-84e2-323a4af72ade",
    "_uuid": "6c21cc05d3c13ea637028f2e5836c719986e47c7"
   },
   "outputs": [
    {
     "data": {
      "text/plain": "(9099, 268124)"
     },
     "execution_count": 318,
     "metadata": {},
     "output_type": "execute_result"
    }
   ],
   "source": [
    "tfidf_matrix.shape"
   ]
  },
  {
   "cell_type": "markdown",
   "metadata": {
    "_cell_guid": "7d4db389-9f30-46e9-b8af-69fe9b40ada5",
    "_uuid": "1a98e05af67de3475999e1891d965ce9f73ce316"
   },
   "source": [
    "#### Cosine Similarity\n",
    "\n",
    "I will be using the Cosine Similarity to calculate a numeric quantity that denotes the similarity between two movies. Mathematically, it is defined as follows:\n",
    "\n",
    "$cosine(x,y) = \\frac{x. y^\\intercal}{||x||.||y||} $\n",
    "\n",
    "Since we have used the TF-IDF Vectorizer, calculating the Dot Product will directly give us the Cosine Similarity Score. Therefore, we will use sklearn's **linear_kernel** instead of cosine_similarities since it is much faster."
   ]
  },
  {
   "cell_type": "code",
   "execution_count": 319,
   "metadata": {
    "_cell_guid": "8b27b34f-a585-42bf-b35f-1de4e9181fce",
    "_uuid": "e324c0e951287359f7810a3da85631ebc7725c53",
    "collapsed": true
   },
   "outputs": [],
   "source": [
    "cosine_sim = linear_kernel(tfidf_matrix, tfidf_matrix)"
   ]
  },
  {
   "cell_type": "code",
   "execution_count": 320,
   "metadata": {
    "_cell_guid": "148a994f-3e7f-4350-9ea3-41eb95f106e8",
    "_uuid": "ebb6823a9dce997d965dc89049a06512cbfb17af"
   },
   "outputs": [
    {
     "data": {
      "text/plain": "array([1.        , 0.00680476, 0.        , ..., 0.        , 0.00344913,\n       0.        ])"
     },
     "execution_count": 320,
     "metadata": {},
     "output_type": "execute_result"
    }
   ],
   "source": [
    "cosine_sim[0]"
   ]
  },
  {
   "cell_type": "code",
   "execution_count": 321,
   "outputs": [],
   "source": [
    "# import pickle\n",
    "#\n",
    "# pickle.dump(cosine_sim,open('similarity1.pkl','wb'))\n",
    "# pickle.dump(smd.to_dict(),open('smd_list1.pkl','wb')) #contains the dataframe in dict\n",
    "# pickle.dump(smd,open('smd1.pkl','wb'))\n",
    "# pickle.dump(qualified,open('simple1.pkl','wb'))"
   ],
   "metadata": {
    "collapsed": false
   }
  },
  {
   "cell_type": "markdown",
   "metadata": {
    "_cell_guid": "f4001114-a1c6-4762-b0cf-64eb4f2658ac",
    "_uuid": "b7a65051edc24edfe6e2afaf3a9c3a148af5bcaf"
   },
   "source": [
    "We now have a pairwise cosine similarity matrix for all the movies in our dataset. The next step is to write a function that returns the 30 most similar movies based on the cosine similarity score."
   ]
  },
  {
   "cell_type": "code",
   "execution_count": 322,
   "metadata": {
    "_cell_guid": "446d22fd-e7c1-42a6-851b-593f60175ce0",
    "_uuid": "ff016d61895e99fe7b0495c51b86917bdbe2712d",
    "collapsed": true
   },
   "outputs": [],
   "source": [
    "smd = smd.reset_index()\n",
    "titles = smd['title']\n",
    "indices = pd.Series(smd.index, index=smd['title'])"
   ]
  },
  {
   "cell_type": "code",
   "execution_count": 323,
   "metadata": {
    "_cell_guid": "d7352ae7-fbc3-4459-b257-76a44000ce6a",
    "_uuid": "62f49212a8b935ef63a3643e1bb6f629521f05b7",
    "collapsed": true
   },
   "outputs": [],
   "source": [
    "def get_recommendations(title):\n",
    "    idx = indices[title]\n",
    "    sim_scores = list(enumerate(cosine_sim[idx]))\n",
    "    sim_scores = sorted(sim_scores, key=lambda x: x[1], reverse=True)\n",
    "    sim_scores = sim_scores[1:31]\n",
    "    movie_indices = [i[0] for i in sim_scores]\n",
    "    return titles.iloc[movie_indices]"
   ]
  },
  {
   "cell_type": "markdown",
   "metadata": {
    "_cell_guid": "e8c1e16a-a1ab-4cae-916b-dcdc2ebaf9a9",
    "_uuid": "8960b80c95e09e6b4e328872efebd2e4ee711df2"
   },
   "source": [
    "We're all set. Let us now try and get the top recommendations for a few movies and see how good the recommendations are."
   ]
  },
  {
   "cell_type": "code",
   "execution_count": 324,
   "metadata": {
    "_cell_guid": "73bb1266-5797-47ce-b61f-fa9e0d7ce077",
    "_uuid": "46f418fd12b35e86a7a2026ef1975be822cadde3"
   },
   "outputs": [
    {
     "data": {
      "text/plain": "973      The Godfather: Part II\n8387                 The Family\n3509                       Made\n4196         Johnny Dangerously\n29               Shanghai Triad\n5667                       Fury\n2412             American Movie\n1582    The Godfather: Part III\n4221                    8 Women\n2159              Summer of Sam\nName: title, dtype: object"
     },
     "execution_count": 324,
     "metadata": {},
     "output_type": "execute_result"
    }
   ],
   "source": [
    "get_recommendations('The Godfather').head(10)"
   ]
  },
  {
   "cell_type": "code",
   "execution_count": 325,
   "metadata": {
    "_cell_guid": "d074112e-79ea-4188-a1e0-addd9bed3c91",
    "_uuid": "f92e310b0225b4a1b8b46e8a87fe2f2b82c158ed"
   },
   "outputs": [
    {
     "data": {
      "text/plain": "7931                      The Dark Knight Rises\n132                              Batman Forever\n1113                             Batman Returns\n8227    Batman: The Dark Knight Returns, Part 2\n7565                 Batman: Under the Red Hood\n524                                      Batman\n7901                           Batman: Year One\n2579               Batman: Mask of the Phantasm\n2696                                        JFK\n8165    Batman: The Dark Knight Returns, Part 1\nName: title, dtype: object"
     },
     "execution_count": 325,
     "metadata": {},
     "output_type": "execute_result"
    }
   ],
   "source": [
    "get_recommendations('The Dark Knight').head(10)"
   ]
  },
  {
   "cell_type": "markdown",
   "metadata": {
    "_cell_guid": "a9fd334d-e890-4125-9d48-b79babd194d2",
    "_uuid": "f38218c5d4f07d6d9439adbab468c51430157103"
   },
   "source": [
    "We see that for **The Dark Knight**, our system is able to identify it as a Batman film and subsequently recommend other Batman films as its top recommendations. But unfortunately, that is all this system can do at the moment. This is not of much use to most people as it doesn't take into considerations very important features such as cast, crew, director and genre, which determine the rating and the popularity of a movie. Someone who liked **The Dark Knight** probably likes it more because of Nolan and would hate **Batman Forever** and every other substandard movie in the Batman Franchise.\n",
    "\n",
    "Therefore, we are going to use much more suggestive metadata than **Overview** and **Tagline**. In the next subsection, we will build a more sophisticated recommender that takes **genre**, **keywords**, **cast** and **crew** into consideration."
   ]
  },
  {
   "cell_type": "markdown",
   "metadata": {
    "_cell_guid": "3a0dd8ba-a580-4c12-95eb-ca04e2191b35",
    "_uuid": "4089c7bcdf984e596e80d2fc6c2a74fe8c05a41f"
   },
   "source": [
    "### Metadata Based Recommender\n",
    "\n",
    "To build our standard metadata based content recommender, we will need to merge our current dataset with the crew and the keyword datasets. Let us prepare this data as our first step."
   ]
  },
  {
   "cell_type": "code",
   "execution_count": 326,
   "metadata": {
    "_cell_guid": "85d2d5e0-165a-4ad5-860d-be1d1aa20c59",
    "_uuid": "aa399813ff512b0d7671e9bfcebf7f41ee139275",
    "collapsed": true
   },
   "outputs": [],
   "source": [
    "credits = pd.read_csv('./data/credits.csv')\n",
    "keywords = pd.read_csv('./data/keywords.csv')"
   ]
  },
  {
   "cell_type": "code",
   "execution_count": 327,
   "metadata": {
    "_cell_guid": "5dc74705-17ee-41b8-932b-dc612c9426c5",
    "_uuid": "e82eb38c3ae53d500ad335943b4bd30a19f22d1a",
    "collapsed": true
   },
   "outputs": [],
   "source": [
    "keywords['id'] = keywords['id'].astype('int')\n",
    "credits['id'] = credits['id'].astype('int')\n",
    "md['id'] = md['id'].astype('int')"
   ]
  },
  {
   "cell_type": "code",
   "execution_count": 328,
   "metadata": {
    "_cell_guid": "a120fca0-7236-4b97-97f8-970363ed02ed",
    "_uuid": "2f9fc363f77649b3ee41132e0b45f366726a25cb"
   },
   "outputs": [
    {
     "data": {
      "text/plain": "(45463, 25)"
     },
     "execution_count": 328,
     "metadata": {},
     "output_type": "execute_result"
    }
   ],
   "source": [
    "md.shape"
   ]
  },
  {
   "cell_type": "code",
   "execution_count": 329,
   "metadata": {
    "_cell_guid": "39fbbbcd-a0d9-4ad3-9187-e6e2bdb4358e",
    "_uuid": "4b1ebc18f31eb017c6f4f173ab270807c73c002a",
    "collapsed": true
   },
   "outputs": [],
   "source": [
    "md = md.merge(credits, on='id')\n",
    "md = md.merge(keywords, on='id')"
   ]
  },
  {
   "cell_type": "code",
   "execution_count": 330,
   "metadata": {
    "_cell_guid": "ecdbd741-d8b1-4083-ba26-6c347915f16d",
    "_uuid": "a017f13dce80c88ce2f9fc0d63c374c93e827baa"
   },
   "outputs": [
    {
     "data": {
      "text/plain": "(9219, 28)"
     },
     "execution_count": 330,
     "metadata": {},
     "output_type": "execute_result"
    }
   ],
   "source": [
    "smd = md[md['id'].isin(links_small)]\n",
    "smd.shape"
   ]
  },
  {
   "cell_type": "markdown",
   "metadata": {
    "_cell_guid": "5932e964-9f33-4cac-b90c-d6a116c8c463",
    "_uuid": "8e2c893fd842164c99b1be3f84f11fac3adab387"
   },
   "source": [
    "We now have our cast, crew, genres and credits, all in one dataframe. Let us wrangle this a little more using the following intuitions:\n",
    "\n",
    "1. **Crew:** From the crew, we will only pick the director as our feature since the others don't contribute that much to the *feel* of the movie.\n",
    "2. **Cast:** Choosing Cast is a little more tricky. Lesser known actors and minor roles do not really affect people's opinion of a movie. Therefore, we must only select the major characters and their respective actors. Arbitrarily we will choose the top 3 actors that appear in the credits list. "
   ]
  },
  {
   "cell_type": "code",
   "execution_count": 331,
   "metadata": {
    "_cell_guid": "6c221b12-c5fd-4eb6-b61a-b7d3f395d2ab",
    "_uuid": "7ff7d25e2c175f2d71e02cf408ed113e10a148f1",
    "collapsed": true
   },
   "outputs": [],
   "source": [
    "smd['cast'] = smd['cast'].apply(literal_eval)\n",
    "smd['crew'] = smd['crew'].apply(literal_eval)\n",
    "smd['keywords'] = smd['keywords'].apply(literal_eval)\n",
    "smd['cast_size'] = smd['cast'].apply(lambda x: len(x))\n",
    "smd['crew_size'] = smd['crew'].apply(lambda x: len(x))"
   ]
  },
  {
   "cell_type": "code",
   "execution_count": 332,
   "metadata": {
    "_cell_guid": "0e19fe24-e206-4743-a96c-fb828707c74d",
    "_uuid": "4207baed79a12ab3314fc816076bbff032d3e186",
    "collapsed": true
   },
   "outputs": [],
   "source": [
    "def get_director(x):\n",
    "    for i in x:\n",
    "        if i['job'] == 'Director':\n",
    "            return i['name']\n",
    "    return np.nan"
   ]
  },
  {
   "cell_type": "code",
   "execution_count": 333,
   "metadata": {
    "_cell_guid": "d4468b32-a67e-4e31-bd56-1f4467884d1d",
    "_uuid": "64c84be00eb7eb7c0b9c4d9a1605e247c11ce2c6",
    "collapsed": true
   },
   "outputs": [],
   "source": [
    "smd['director'] = smd['crew'].apply(get_director)"
   ]
  },
  {
   "cell_type": "code",
   "execution_count": 334,
   "metadata": {
    "_cell_guid": "cc3ff524-20c5-478c-b45e-9875c473e48b",
    "_uuid": "fd58e3dc015c81678ca1181a8de9c6e967ffdb22",
    "collapsed": true
   },
   "outputs": [],
   "source": [
    "smd['cast'] = smd['cast'].apply(lambda x: [i['name'] for i in x] if isinstance(x, list) else [])\n",
    "smd['cast'] = smd['cast'].apply(lambda x: x[:3] if len(x) >=3 else x)"
   ]
  },
  {
   "cell_type": "code",
   "execution_count": 335,
   "metadata": {
    "_cell_guid": "2768dfe6-303a-4f88-81be-39b91c675202",
    "_uuid": "16c1509135d80d41051b8fb46ded3a6aad67e8f0",
    "collapsed": true
   },
   "outputs": [],
   "source": [
    "smd['keywords'] = smd['keywords'].apply(lambda x: [i['name'] for i in x] if isinstance(x, list) else [])"
   ]
  },
  {
   "cell_type": "markdown",
   "metadata": {
    "_cell_guid": "9f2cbd6e-3729-4316-bb4a-1bcd092f19ff",
    "_uuid": "ac9eb7bb4b74983b9c649013b7cdc6ebbb78af23"
   },
   "source": [
    "My approach to building the recommender is going to be extremely *hacky*. What I plan on doing is creating a metadata dump for every movie which consists of **genres, director, main actors and keywords.** I then use a **Count Vectorizer** to create our count matrix as we did in the Description Recommender. The remaining steps are similar to what we did earlier: we calculate the cosine similarities and return movies that are most similar.\n",
    "\n",
    "These are steps I follow in the preparation of my genres and credits data:\n",
    "1. **Strip Spaces and Convert to Lowercase** from all our features. This way, our engine will not confuse between **Johnny Depp** and **Johnny Galecki.** \n",
    "2. **Mention Director 3 times** to give it more weight relative to the entire cast."
   ]
  },
  {
   "cell_type": "code",
   "execution_count": 336,
   "metadata": {
    "_cell_guid": "6c5ffd70-ef6b-4fd0-be3d-b3c6a0d72df0",
    "_uuid": "01d86674d50b903fedc79750c4031ca88a739449",
    "collapsed": true
   },
   "outputs": [],
   "source": [
    "smd['cast'] = smd['cast'].apply(lambda x: [str.lower(i.replace(\" \", \"\")) for i in x])"
   ]
  },
  {
   "cell_type": "code",
   "execution_count": 337,
   "metadata": {
    "_cell_guid": "5c1377ba-aad0-4a3f-8bcb-063c9c93f087",
    "_uuid": "7e16f8b131ff73d33463fd070774a24a5ce474df",
    "collapsed": true
   },
   "outputs": [],
   "source": [
    "smd['director'] = smd['director'].astype('str').apply(lambda x: str.lower(x.replace(\" \", \"\")))\n",
    "smd['director'] = smd['director'].apply(lambda x: [x,x, x])"
   ]
  },
  {
   "cell_type": "markdown",
   "metadata": {
    "_cell_guid": "5ea1aabb-a885-4dfe-a85e-0e31fd76558f",
    "_uuid": "feac137ab3987ade6ae3b041c6cbec3bf4364e66"
   },
   "source": [
    "#### Keywords\n",
    "\n",
    "We will do a small amount of pre-processing of our keywords before putting them to any use. As a first step, we calculate the frequenct counts of every keyword that appears in the dataset."
   ]
  },
  {
   "cell_type": "code",
   "execution_count": 338,
   "metadata": {
    "_cell_guid": "3dc8f545-4666-4cc0-8473-2870a69e7ff0",
    "_uuid": "5740d11531f7305f4edf13b0270dc014382a2b5c",
    "collapsed": true
   },
   "outputs": [],
   "source": [
    "s = smd.apply(lambda x: pd.Series(x['keywords']),axis=1).stack().reset_index(level=1, drop=True)\n",
    "s.name = 'keyword'"
   ]
  },
  {
   "cell_type": "code",
   "execution_count": 339,
   "metadata": {
    "_cell_guid": "21e684ab-f6d3-4014-a05a-c28f995b4972",
    "_uuid": "1374a54bff3f7f0fdc872bfebff9f81d1dfcea69"
   },
   "outputs": [
    {
     "data": {
      "text/plain": "independent film        610\nwoman director          550\nmurder                  399\nduringcreditsstinger    327\nbased on novel          318\nName: keyword, dtype: int64"
     },
     "execution_count": 339,
     "metadata": {},
     "output_type": "execute_result"
    }
   ],
   "source": [
    "s = s.value_counts()\n",
    "s[:5]"
   ]
  },
  {
   "cell_type": "markdown",
   "metadata": {
    "_cell_guid": "4277aa18-dc91-4836-9853-2c94624cc70d",
    "_uuid": "0ac999648a3085a98948ccf9ada187a9bb08eba3"
   },
   "source": [
    "Keywords occur in frequencies ranging from 1 to 610. We do not have any use for keywords that occur only once. Therefore, these can be safely removed. Finally, we will convert every word to its stem so that words such as *Dogs* and *Dog* are considered the same."
   ]
  },
  {
   "cell_type": "code",
   "execution_count": 340,
   "metadata": {
    "_cell_guid": "8cabd79b-dfab-46d8-922d-e204173d8103",
    "_uuid": "bf05fb571b1ee60335af20acb9cf5d7fee6254e8",
    "collapsed": true
   },
   "outputs": [],
   "source": [
    "s = s[s > 1]"
   ]
  },
  {
   "cell_type": "code",
   "execution_count": 341,
   "metadata": {
    "_cell_guid": "2d10427d-9339-46fa-b699-060b27d6d25f",
    "_uuid": "1d2a07e4de352df9d3e2230d36e691d166a1675c"
   },
   "outputs": [
    {
     "data": {
      "text/plain": "'dog'"
     },
     "execution_count": 341,
     "metadata": {},
     "output_type": "execute_result"
    }
   ],
   "source": [
    "stemmer = SnowballStemmer('english')\n",
    "stemmer.stem('dogs')"
   ]
  },
  {
   "cell_type": "code",
   "execution_count": 342,
   "metadata": {
    "_cell_guid": "5379c8d7-42a5-471a-84f8-bbd6cadf2e5c",
    "_uuid": "3bad77061d810e52b0d9fecfd26873c101167d00",
    "collapsed": true
   },
   "outputs": [],
   "source": [
    "def filter_keywords(x):\n",
    "    words = []\n",
    "    for i in x:\n",
    "        if i in s:\n",
    "            words.append(i)\n",
    "    return words"
   ]
  },
  {
   "cell_type": "code",
   "execution_count": 343,
   "metadata": {
    "_cell_guid": "959063e5-841d-408a-a10e-1f1437756b7c",
    "_uuid": "2a939eb8846871c606da0f654a1a9a978270e99f",
    "collapsed": true
   },
   "outputs": [],
   "source": [
    "smd['keywords'] = smd['keywords'].apply(filter_keywords)\n",
    "smd['keywords'] = smd['keywords'].apply(lambda x: [stemmer.stem(i) for i in x])\n",
    "smd['keywords'] = smd['keywords'].apply(lambda x: [str.lower(i.replace(\" \", \"\")) for i in x])"
   ]
  },
  {
   "cell_type": "code",
   "execution_count": 344,
   "metadata": {
    "_cell_guid": "95c45262-2715-47b7-af65-1eb396c37d33",
    "_uuid": "6ff4da392e31cf628f91dd244cc4e76d63c40601",
    "collapsed": true
   },
   "outputs": [],
   "source": [
    "smd['soup'] = smd['keywords'] + smd['cast'] + smd['director'] + smd['genres']\n",
    "smd['soup'] = smd['soup'].apply(lambda x: ' '.join(x))"
   ]
  },
  {
   "cell_type": "code",
   "execution_count": 345,
   "metadata": {
    "_cell_guid": "7f9aa1bc-351b-47a1-b909-0d87efe93adc",
    "_uuid": "c758030ce02bb4beed606e41a3e0a51b659768f0",
    "collapsed": true
   },
   "outputs": [],
   "source": [
    "count = CountVectorizer(analyzer='word',ngram_range=(1, 2),min_df=0, stop_words='english')\n",
    "count_matrix = count.fit_transform(smd['soup'])"
   ]
  },
  {
   "cell_type": "code",
   "execution_count": 346,
   "metadata": {
    "_cell_guid": "c462b8af-1eb8-499e-8e50-839811aebe9d",
    "_uuid": "defccf8a2c851672447b4f53ff1a8efddafccb33",
    "collapsed": true
   },
   "outputs": [],
   "source": [
    "cosine_sim = cosine_similarity(count_matrix, count_matrix)"
   ]
  },
  {
   "cell_type": "code",
   "execution_count": 347,
   "outputs": [],
   "source": [
    "# import pickle\n",
    "#\n",
    "# pickle.dump(cosine_sim,open('similarity2.pkl','wb'))\n",
    "# pickle.dump(smd.to_dict(),open('smd_list2.pkl','wb')) #contains the dataframe in dict\n",
    "# pickle.dump(smd,open('smd2.pkl','wb'))\n",
    "# pickle.dump(qualified,open('simple2.pkl','wb'))"
   ],
   "metadata": {
    "collapsed": false
   }
  },
  {
   "cell_type": "code",
   "execution_count": 348,
   "metadata": {
    "_cell_guid": "d7ee34aa-da42-46bb-93e5-51e893286353",
    "_uuid": "ffa7edd804b3ea3065c6d428fbb613ae7cd203e3",
    "collapsed": true
   },
   "outputs": [],
   "source": [
    "smd = smd.reset_index()\n",
    "titles = smd['title']\n",
    "indices = pd.Series(smd.index, index=smd['title'])"
   ]
  },
  {
   "cell_type": "markdown",
   "source": [],
   "metadata": {
    "collapsed": false
   }
  },
  {
   "cell_type": "markdown",
   "metadata": {
    "_cell_guid": "7f7ae1dc-41c0-4cd7-af41-74e6075b0d90",
    "_uuid": "37e2da9e51efab9951e6061f677c5ffcad230782"
   },
   "source": [
    "We will reuse the get_recommendations function that we had written earlier. Since our cosine similarity scores have changed, we expect it to give us different (and probably better) results. Let us check for **The Dark Knight** again and see what recommendations I get this time around."
   ]
  },
  {
   "cell_type": "code",
   "execution_count": 349,
   "metadata": {
    "_cell_guid": "e755e943-495b-46df-983b-2f8ad80fcd6a",
    "_uuid": "f6e2b6b232e992c783150a0ac5a7038c6de6db37"
   },
   "outputs": [
    {
     "data": {
      "text/plain": "8031         The Dark Knight Rises\n6218                 Batman Begins\n6623                  The Prestige\n2085                     Following\n7648                     Inception\n4145                      Insomnia\n3381                       Memento\n8613                  Interstellar\n7659    Batman: Under the Red Hood\n1134                Batman Returns\nName: title, dtype: object"
     },
     "execution_count": 349,
     "metadata": {},
     "output_type": "execute_result"
    }
   ],
   "source": [
    "get_recommendations('The Dark Knight').head(10)"
   ]
  },
  {
   "cell_type": "markdown",
   "metadata": {
    "_cell_guid": "96c3a594-19de-4a38-a033-cbdd7d69aa4c",
    "_uuid": "65859bb4471fbd873df938ef77ed667cac10babc"
   },
   "source": [
    "I am much more satisfied with the results I get this time around. The recommendations seem to have recognized other Christopher Nolan movies (due to the high weightage given to director) and put them as top recommendations. I enjoyed watching **The Dark Knight** as well as some of the other ones in the list including **Batman Begins**, **The Prestige** and **The Dark Knight Rises**. \n",
    "\n",
    "We can of course experiment on this engine by trying out different weights for our features (directors, actors, genres), limiting the number of keywords that can be used in the soup, weighing genres based on their frequency, only showing movies with the same languages, etc."
   ]
  },
  {
   "cell_type": "markdown",
   "metadata": {},
   "source": [
    "Let me also get recommendations for another movie, **Mean Girls** which happens to be my girlfriend's favorite movie."
   ]
  },
  {
   "cell_type": "code",
   "execution_count": 350,
   "metadata": {
    "_cell_guid": "ef4d3551-2c66-4732-9be1-10425962d5e9",
    "_uuid": "688b323c3b96224127465e8d48e67688ba4be202"
   },
   "outputs": [
    {
     "data": {
      "text/plain": "3319               Head Over Heels\n4763                 Freaky Friday\n1329              The House of Yes\n6277              Just Like Heaven\n7905         Mr. Popper's Penguins\n7332    Ghosts of Girlfriends Past\n6959     The Spiderwick Chronicles\n8883                      The DUFF\n6698         It's a Boy Girl Thing\n7377       I Love You, Beth Cooper\nName: title, dtype: object"
     },
     "execution_count": 350,
     "metadata": {},
     "output_type": "execute_result"
    }
   ],
   "source": [
    "get_recommendations('Mean Girls').head(10)"
   ]
  },
  {
   "cell_type": "markdown",
   "metadata": {
    "_cell_guid": "77c9d0d7-684c-41ab-b806-b38264b2cf3f",
    "_uuid": "536a4e8632d62d2b6a0c0d5e8b5731c39eb5529b"
   },
   "source": [
    "#### Popularity and Ratings\n",
    "\n",
    "One thing that we notice about our recommendation system is that it recommends movies regardless of ratings and popularity. It is true that **Batman and Robin** has a lot of similar characters as compared to **The Dark Knight** but it was a terrible movie that shouldn't be recommended to anyone.\n",
    "\n",
    "Therefore, we will add a mechanism to remove bad movies and return movies which are popular and have had a good critical response.\n",
    "\n",
    "I will take the top 25 movies based on similarity scores and calculate the vote of the 60th percentile movie. Then, using this as the value of $m$, we will calculate the weighted rating of each movie using IMDB's formula like we did in the Simple Recommender section."
   ]
  },
  {
   "cell_type": "code",
   "execution_count": 351,
   "metadata": {
    "_cell_guid": "1b5f0675-caa1-41bf-8a9a-ba89b0e07872",
    "_uuid": "0a7cc50433dcd13586dc1ee825b0880ad0c83869",
    "collapsed": true
   },
   "outputs": [],
   "source": [
    "def improved_recommendations(title):\n",
    "    idx = indices[title]\n",
    "    sim_scores = list(enumerate(cosine_sim[idx]))\n",
    "    sim_scores = sorted(sim_scores, key=lambda x: x[1], reverse=True)\n",
    "    sim_scores = sim_scores[1:26]\n",
    "    movie_indices = [i[0] for i in sim_scores]\n",
    "    \n",
    "    movies = smd.iloc[movie_indices][['title', 'vote_count', 'vote_average', 'year']]\n",
    "    vote_counts = movies[movies['vote_count'].notnull()]['vote_count'].astype('int')\n",
    "    vote_averages = movies[movies['vote_average'].notnull()]['vote_average'].astype('int')\n",
    "    C = vote_averages.mean()\n",
    "    m = vote_counts.quantile(0.60)\n",
    "    qualified = movies[(movies['vote_count'] >= m) & (movies['vote_count'].notnull()) & (movies['vote_average'].notnull())]\n",
    "    qualified['vote_count'] = qualified['vote_count'].astype('int')\n",
    "    qualified['vote_average'] = qualified['vote_average'].astype('int')\n",
    "    qualified['wr'] = qualified.apply(weighted_rating, axis=1)\n",
    "    qualified = qualified.sort_values('wr', ascending=False).head(10)\n",
    "    return qualified"
   ]
  },
  {
   "cell_type": "code",
   "execution_count": 352,
   "metadata": {
    "_cell_guid": "7f4ce0f9-ebc0-464d-a3d4-084f156d02b4",
    "_uuid": "c36a9662253e9a6bb1ae008e6cabd8dee7aaaa73"
   },
   "outputs": [
    {
     "data": {
      "text/plain": "                                   title  vote_count  vote_average  year  \\\n7648                           Inception       14075             8  2010   \n8613                        Interstellar       11187             8  2014   \n6623                        The Prestige        4510             8  2006   \n3381                             Memento        4168             8  2000   \n8031               The Dark Knight Rises        9263             7  2012   \n6218                       Batman Begins        7511             7  2005   \n1134                      Batman Returns        1706             6  1992   \n132                       Batman Forever        1529             5  1995   \n9024  Batman v Superman: Dawn of Justice        7189             5  2016   \n1260                      Batman & Robin        1447             4  1997   \n\n            wr  \n7648  7.917588  \n8613  7.897107  \n6623  7.758148  \n3381  7.740175  \n8031  6.921448  \n6218  6.904127  \n1134  5.846862  \n132   5.054144  \n9024  5.013943  \n1260  4.287233  ",
      "text/html": "<div>\n<style scoped>\n    .dataframe tbody tr th:only-of-type {\n        vertical-align: middle;\n    }\n\n    .dataframe tbody tr th {\n        vertical-align: top;\n    }\n\n    .dataframe thead th {\n        text-align: right;\n    }\n</style>\n<table border=\"1\" class=\"dataframe\">\n  <thead>\n    <tr style=\"text-align: right;\">\n      <th></th>\n      <th>title</th>\n      <th>vote_count</th>\n      <th>vote_average</th>\n      <th>year</th>\n      <th>wr</th>\n    </tr>\n  </thead>\n  <tbody>\n    <tr>\n      <th>7648</th>\n      <td>Inception</td>\n      <td>14075</td>\n      <td>8</td>\n      <td>2010</td>\n      <td>7.917588</td>\n    </tr>\n    <tr>\n      <th>8613</th>\n      <td>Interstellar</td>\n      <td>11187</td>\n      <td>8</td>\n      <td>2014</td>\n      <td>7.897107</td>\n    </tr>\n    <tr>\n      <th>6623</th>\n      <td>The Prestige</td>\n      <td>4510</td>\n      <td>8</td>\n      <td>2006</td>\n      <td>7.758148</td>\n    </tr>\n    <tr>\n      <th>3381</th>\n      <td>Memento</td>\n      <td>4168</td>\n      <td>8</td>\n      <td>2000</td>\n      <td>7.740175</td>\n    </tr>\n    <tr>\n      <th>8031</th>\n      <td>The Dark Knight Rises</td>\n      <td>9263</td>\n      <td>7</td>\n      <td>2012</td>\n      <td>6.921448</td>\n    </tr>\n    <tr>\n      <th>6218</th>\n      <td>Batman Begins</td>\n      <td>7511</td>\n      <td>7</td>\n      <td>2005</td>\n      <td>6.904127</td>\n    </tr>\n    <tr>\n      <th>1134</th>\n      <td>Batman Returns</td>\n      <td>1706</td>\n      <td>6</td>\n      <td>1992</td>\n      <td>5.846862</td>\n    </tr>\n    <tr>\n      <th>132</th>\n      <td>Batman Forever</td>\n      <td>1529</td>\n      <td>5</td>\n      <td>1995</td>\n      <td>5.054144</td>\n    </tr>\n    <tr>\n      <th>9024</th>\n      <td>Batman v Superman: Dawn of Justice</td>\n      <td>7189</td>\n      <td>5</td>\n      <td>2016</td>\n      <td>5.013943</td>\n    </tr>\n    <tr>\n      <th>1260</th>\n      <td>Batman &amp; Robin</td>\n      <td>1447</td>\n      <td>4</td>\n      <td>1997</td>\n      <td>4.287233</td>\n    </tr>\n  </tbody>\n</table>\n</div>"
     },
     "execution_count": 352,
     "metadata": {},
     "output_type": "execute_result"
    }
   ],
   "source": [
    "improved_recommendations('The Dark Knight')"
   ]
  },
  {
   "cell_type": "markdown",
   "metadata": {},
   "source": [
    "Let me also get the recommendations for **Mean Girls**, my girlfriend's favorite movie."
   ]
  },
  {
   "cell_type": "code",
   "execution_count": 353,
   "metadata": {
    "_cell_guid": "69a93363-d82c-47e3-94fc-d59a219a4f3a",
    "_uuid": "a04523fa7c17a9ae25d5fcade4c817d35e8b6f19"
   },
   "outputs": [
    {
     "data": {
      "text/plain": "                                        title  vote_count  vote_average  year  \\\n1547                       The Breakfast Club        2189             7  1985   \n390                        Dazed and Confused         588             7  1993   \n8883                                 The DUFF        1372             6  2015   \n3712                     The Princess Diaries        1063             6  2001   \n4763                            Freaky Friday         919             6  2003   \n6277                         Just Like Heaven         595             6  2005   \n6959                The Spiderwick Chronicles         593             6  2008   \n7494  American Pie Presents: The Book of Love         454             5  2009   \n7332               Ghosts of Girlfriends Past         716             5  2009   \n7905                    Mr. Popper's Penguins         775             5  2011   \n\n            wr  \n1547  6.709602  \n390   6.254682  \n8883  5.818541  \n3712  5.781086  \n4763  5.757786  \n6277  5.681521  \n6959  5.680901  \n7494  5.119690  \n7332  5.092422  \n7905  5.087912  ",
      "text/html": "<div>\n<style scoped>\n    .dataframe tbody tr th:only-of-type {\n        vertical-align: middle;\n    }\n\n    .dataframe tbody tr th {\n        vertical-align: top;\n    }\n\n    .dataframe thead th {\n        text-align: right;\n    }\n</style>\n<table border=\"1\" class=\"dataframe\">\n  <thead>\n    <tr style=\"text-align: right;\">\n      <th></th>\n      <th>title</th>\n      <th>vote_count</th>\n      <th>vote_average</th>\n      <th>year</th>\n      <th>wr</th>\n    </tr>\n  </thead>\n  <tbody>\n    <tr>\n      <th>1547</th>\n      <td>The Breakfast Club</td>\n      <td>2189</td>\n      <td>7</td>\n      <td>1985</td>\n      <td>6.709602</td>\n    </tr>\n    <tr>\n      <th>390</th>\n      <td>Dazed and Confused</td>\n      <td>588</td>\n      <td>7</td>\n      <td>1993</td>\n      <td>6.254682</td>\n    </tr>\n    <tr>\n      <th>8883</th>\n      <td>The DUFF</td>\n      <td>1372</td>\n      <td>6</td>\n      <td>2015</td>\n      <td>5.818541</td>\n    </tr>\n    <tr>\n      <th>3712</th>\n      <td>The Princess Diaries</td>\n      <td>1063</td>\n      <td>6</td>\n      <td>2001</td>\n      <td>5.781086</td>\n    </tr>\n    <tr>\n      <th>4763</th>\n      <td>Freaky Friday</td>\n      <td>919</td>\n      <td>6</td>\n      <td>2003</td>\n      <td>5.757786</td>\n    </tr>\n    <tr>\n      <th>6277</th>\n      <td>Just Like Heaven</td>\n      <td>595</td>\n      <td>6</td>\n      <td>2005</td>\n      <td>5.681521</td>\n    </tr>\n    <tr>\n      <th>6959</th>\n      <td>The Spiderwick Chronicles</td>\n      <td>593</td>\n      <td>6</td>\n      <td>2008</td>\n      <td>5.680901</td>\n    </tr>\n    <tr>\n      <th>7494</th>\n      <td>American Pie Presents: The Book of Love</td>\n      <td>454</td>\n      <td>5</td>\n      <td>2009</td>\n      <td>5.119690</td>\n    </tr>\n    <tr>\n      <th>7332</th>\n      <td>Ghosts of Girlfriends Past</td>\n      <td>716</td>\n      <td>5</td>\n      <td>2009</td>\n      <td>5.092422</td>\n    </tr>\n    <tr>\n      <th>7905</th>\n      <td>Mr. Popper's Penguins</td>\n      <td>775</td>\n      <td>5</td>\n      <td>2011</td>\n      <td>5.087912</td>\n    </tr>\n  </tbody>\n</table>\n</div>"
     },
     "execution_count": 353,
     "metadata": {},
     "output_type": "execute_result"
    }
   ],
   "source": [
    "improved_recommendations('Mean Girls')"
   ]
  },
  {
   "cell_type": "markdown",
   "metadata": {
    "_cell_guid": "c43b2445-0b09-4eaf-8a93-6c5037fae0ad",
    "_uuid": "f8561762c1e258f52ab2c662f1eb3d5f695316b2"
   },
   "source": [
    "Unfortunately, **Batman and Robin** does not disappear from our recommendation list. This is probably due to the fact that it is rated a 4, which is only slightly below average on TMDB. It certainly doesn't deserve a 4 when amazing movies like **The Dark Knight Rises** has only a 7. However, there is nothing much we can do about this. Therefore, we will conclude our Content Based Recommender section here and come back to it when we build a hybrid engine."
   ]
  },
  {
   "cell_type": "markdown",
   "metadata": {
    "_cell_guid": "812fc4c7-b334-4f54-a05f-8fc0e7962a92",
    "_uuid": "ad1edcae8eecd5c725edbe18082bc4d8103ca800"
   },
   "source": [
    "## Conclusion\n",
    "\n",
    "In this notebook, I have built 4 different recommendation engines based on different ideas and algorithms. They are as follows:\n",
    "\n",
    "1. **Simple Recommender:** This system used overall TMDB Vote Count and Vote Averages to build Top Movies Charts, in general and for a specific genre. The IMDB Weighted Rating System was used to calculate ratings on which the sorting was finally performed.\n",
    "2. **Content Based Recommender:** We built two content based engines; one that took movie overview and taglines as input and the other which took metadata such as cast, crew, genre and keywords to come up with predictions. We also deviced a simple filter to give greater preference to movies with more votes and higher ratings.\n",
    "3. **Collaborative Filtering:** We used the powerful Surprise Library to build a collaborative filter based on single value decomposition. The RMSE obtained was less than 1 and the engine gave estimated ratings for a given user and movie.\n",
    "4. **Hybrid Engine:** We brought together ideas from content and collaborative filterting to build an engine that gave movie suggestions to a particular user based on the estimated ratings that it had internally calculated for that user.\n",
    "\n",
    "Previous -> [The Story of Film](https://www.kaggle.com/rounakbanik/the-story-of-film/)"
   ]
  },
  {
   "cell_type": "code",
   "execution_count": 354,
   "metadata": {
    "_cell_guid": "304b0809-4070-4954-99ed-203a4b8b6956",
    "_uuid": "e53889f19f6d352bb0418567941dff8f9e57da41",
    "collapsed": true
   },
   "outputs": [],
   "source": [
    "import pickle\n",
    "\n",
    "# pickle.dump(cosine_sim,open('similarity.pkl','wb'))\n",
    "# pickle.dump(smd.to_dict(),open('smd_list.pkl','wb')) #contains the dataframe in dict\n",
    "# pickle.dump(smd,open('smd.pkl','wb'))\n",
    "# pickle.dump(qualified,open('simple.pkl','wb'))"
   ]
  },
  {
   "cell_type": "code",
   "execution_count": 355,
   "outputs": [
    {
     "data": {
      "text/plain": "      index  adult                              belongs_to_collection  \\\n0         0  False  {'id': 10194, 'name': 'Toy Story Collection', ...   \n1         1  False                                                NaN   \n2         2  False  {'id': 119050, 'name': 'Grumpy Old Men Collect...   \n3         3  False                                                NaN   \n4         4  False  {'id': 96871, 'name': 'Father of the Bride Col...   \n...     ...    ...                                                ...   \n9214  40952  False                                                NaN   \n9215  41172  False                                                NaN   \n9216  41225  False                                                NaN   \n9217  41391  False                                                NaN   \n9218  41669  False                                                NaN   \n\n        budget                                             genres  \\\n0     30000000                        [Animation, Comedy, Family]   \n1     65000000                       [Adventure, Fantasy, Family]   \n2            0                                  [Romance, Comedy]   \n3     16000000                           [Comedy, Drama, Romance]   \n4            0                                           [Comedy]   \n...        ...                                                ...   \n9214   8000000                                            [Drama]   \n9215   1000000                                [Thriller, Romance]   \n9216  15050000               [Adventure, Drama, History, Romance]   \n9217  15000000  [Action, Adventure, Drama, Horror, Science Fic...   \n9218         0                               [Documentary, Music]   \n\n                                   homepage      id    imdb_id  \\\n0      http://toystory.disney.com/toy-story     862  tt0114709   \n1                                       NaN    8844  tt0113497   \n2                                       NaN   15602  tt0113228   \n3                                       NaN   31357  tt0114885   \n4                                       NaN   11862  tt0113041   \n...                                     ...     ...        ...   \n9214                                    NaN  159550  tt0255313   \n9215                                    NaN  392572  tt5165344   \n9216                                    NaN  402672  tt3859980   \n9217                                    NaN  315011  tt4262980   \n9218  http://www.thebeatlesliveproject.com/  391698  tt2531318   \n\n     original_language                                     original_title  \\\n0                   en                                          Toy Story   \n1                   en                                            Jumanji   \n2                   en                                   Grumpier Old Men   \n3                   en                                  Waiting to Exhale   \n4                   en                        Father of the Bride Part II   \n...                ...                                                ...   \n9214                en                     The Last Brickmaker in America   \n9215                hi                                             रुस्तम   \n9216                hi                                       Mohenjo Daro   \n9217                ja                                             シン・ゴジラ   \n9218                en  The Beatles: Eight Days a Week - The Touring Y...   \n\n      ... vote_average vote_count  year  \\\n0     ...          7.7     5415.0  1995   \n1     ...          6.9     2413.0  1995   \n2     ...          6.5       92.0  1995   \n3     ...          6.1       34.0  1995   \n4     ...          5.7      173.0  1995   \n...   ...          ...        ...   ...   \n9214  ...          7.0        1.0  2001   \n9215  ...          7.3       25.0  2016   \n9216  ...          6.7       26.0  2016   \n9217  ...          6.6      152.0  2016   \n9218  ...          7.6       92.0  2016   \n\n                                                   cast  \\\n0                      [tomhanks, timallen, donrickles]   \n1           [robinwilliams, jonathanhyde, kirstendunst]   \n2              [waltermatthau, jacklemmon, ann-margret]   \n3        [whitneyhouston, angelabassett, lorettadevine]   \n4               [stevemartin, dianekeaton, martinshort]   \n...                                                 ...   \n9214        [sidneypoitier, wendycrewson, jayo.sanders]   \n9215             [akshaykumar, ileanad'cruz, eshagupta]   \n9216             [hrithikroshan, poojahegde, kabirbedi]   \n9217  [hirokihasegawa, yutakatakenouchi, satomiishih...   \n9218            [paulmccartney, ringostarr, johnlennon]   \n\n                                                   crew  \\\n0     [{'credit_id': '52fe4284c3a36847f8024f49', 'de...   \n1     [{'credit_id': '52fe44bfc3a36847f80a7cd1', 'de...   \n2     [{'credit_id': '52fe466a9251416c75077a89', 'de...   \n3     [{'credit_id': '52fe44779251416c91011acb', 'de...   \n4     [{'credit_id': '52fe44959251416c75039ed7', 'de...   \n...                                                 ...   \n9214  [{'credit_id': '544475aac3a36819fb000578', 'de...   \n9215  [{'credit_id': '5951baf692514129c4016600', 'de...   \n9216  [{'credit_id': '57cd5d3592514179d50018e8', 'de...   \n9217  [{'credit_id': '560892fa92514177550018b2', 'de...   \n9218  [{'credit_id': '57057c6cc3a3680dca000285', 'de...   \n\n                                               keywords  cast_size  crew_size  \\\n0     [jealousi, toy, boy, friendship, friend, rival...         13        106   \n1     [boardgam, disappear, basedonchildren'sbook, n...         26         16   \n2                [fish, bestfriend, duringcreditssting]          7          4   \n3     [basedonnovel, interracialrelationship, single...         10         10   \n4     [babi, midlifecrisi, confid, age, daughter, mo...         12          7   \n...                                                 ...        ...        ...   \n9214                                       [friendship]          7          2   \n9215                                        [bollywood]         14         16   \n9216                                        [bollywood]         12         16   \n9217   [monster, godzilla, giantmonst, destruct, kaiju]         49         27   \n9218                               [music, documentari]         28          7   \n\n                                               director  \\\n0            [johnlasseter, johnlasseter, johnlasseter]   \n1               [joejohnston, joejohnston, joejohnston]   \n2            [howarddeutch, howarddeutch, howarddeutch]   \n3      [forestwhitaker, forestwhitaker, forestwhitaker]   \n4            [charlesshyer, charlesshyer, charlesshyer]   \n...                                                 ...   \n9214      [greggchampion, greggchampion, greggchampion]   \n9215  [tinusureshdesai, tinusureshdesai, tinusureshd...   \n9216  [ashutoshgowariker, ashutoshgowariker, ashutos...   \n9217            [hideakianno, hideakianno, hideakianno]   \n9218                  [ronhoward, ronhoward, ronhoward]   \n\n                                                   soup  \n0     jealousi toy boy friendship friend rivalri boy...  \n1     boardgam disappear basedonchildren'sbook newho...  \n2     fish bestfriend duringcreditssting waltermatth...  \n3     basedonnovel interracialrelationship singlemot...  \n4     babi midlifecrisi confid age daughter motherda...  \n...                                                 ...  \n9214  friendship sidneypoitier wendycrewson jayo.san...  \n9215  bollywood akshaykumar ileanad'cruz eshagupta t...  \n9216  bollywood hrithikroshan poojahegde kabirbedi a...  \n9217  monster godzilla giantmonst destruct kaiju hir...  \n9218  music documentari paulmccartney ringostarr joh...  \n\n[9219 rows x 33 columns]",
      "text/html": "<div>\n<style scoped>\n    .dataframe tbody tr th:only-of-type {\n        vertical-align: middle;\n    }\n\n    .dataframe tbody tr th {\n        vertical-align: top;\n    }\n\n    .dataframe thead th {\n        text-align: right;\n    }\n</style>\n<table border=\"1\" class=\"dataframe\">\n  <thead>\n    <tr style=\"text-align: right;\">\n      <th></th>\n      <th>index</th>\n      <th>adult</th>\n      <th>belongs_to_collection</th>\n      <th>budget</th>\n      <th>genres</th>\n      <th>homepage</th>\n      <th>id</th>\n      <th>imdb_id</th>\n      <th>original_language</th>\n      <th>original_title</th>\n      <th>...</th>\n      <th>vote_average</th>\n      <th>vote_count</th>\n      <th>year</th>\n      <th>cast</th>\n      <th>crew</th>\n      <th>keywords</th>\n      <th>cast_size</th>\n      <th>crew_size</th>\n      <th>director</th>\n      <th>soup</th>\n    </tr>\n  </thead>\n  <tbody>\n    <tr>\n      <th>0</th>\n      <td>0</td>\n      <td>False</td>\n      <td>{'id': 10194, 'name': 'Toy Story Collection', ...</td>\n      <td>30000000</td>\n      <td>[Animation, Comedy, Family]</td>\n      <td>http://toystory.disney.com/toy-story</td>\n      <td>862</td>\n      <td>tt0114709</td>\n      <td>en</td>\n      <td>Toy Story</td>\n      <td>...</td>\n      <td>7.7</td>\n      <td>5415.0</td>\n      <td>1995</td>\n      <td>[tomhanks, timallen, donrickles]</td>\n      <td>[{'credit_id': '52fe4284c3a36847f8024f49', 'de...</td>\n      <td>[jealousi, toy, boy, friendship, friend, rival...</td>\n      <td>13</td>\n      <td>106</td>\n      <td>[johnlasseter, johnlasseter, johnlasseter]</td>\n      <td>jealousi toy boy friendship friend rivalri boy...</td>\n    </tr>\n    <tr>\n      <th>1</th>\n      <td>1</td>\n      <td>False</td>\n      <td>NaN</td>\n      <td>65000000</td>\n      <td>[Adventure, Fantasy, Family]</td>\n      <td>NaN</td>\n      <td>8844</td>\n      <td>tt0113497</td>\n      <td>en</td>\n      <td>Jumanji</td>\n      <td>...</td>\n      <td>6.9</td>\n      <td>2413.0</td>\n      <td>1995</td>\n      <td>[robinwilliams, jonathanhyde, kirstendunst]</td>\n      <td>[{'credit_id': '52fe44bfc3a36847f80a7cd1', 'de...</td>\n      <td>[boardgam, disappear, basedonchildren'sbook, n...</td>\n      <td>26</td>\n      <td>16</td>\n      <td>[joejohnston, joejohnston, joejohnston]</td>\n      <td>boardgam disappear basedonchildren'sbook newho...</td>\n    </tr>\n    <tr>\n      <th>2</th>\n      <td>2</td>\n      <td>False</td>\n      <td>{'id': 119050, 'name': 'Grumpy Old Men Collect...</td>\n      <td>0</td>\n      <td>[Romance, Comedy]</td>\n      <td>NaN</td>\n      <td>15602</td>\n      <td>tt0113228</td>\n      <td>en</td>\n      <td>Grumpier Old Men</td>\n      <td>...</td>\n      <td>6.5</td>\n      <td>92.0</td>\n      <td>1995</td>\n      <td>[waltermatthau, jacklemmon, ann-margret]</td>\n      <td>[{'credit_id': '52fe466a9251416c75077a89', 'de...</td>\n      <td>[fish, bestfriend, duringcreditssting]</td>\n      <td>7</td>\n      <td>4</td>\n      <td>[howarddeutch, howarddeutch, howarddeutch]</td>\n      <td>fish bestfriend duringcreditssting waltermatth...</td>\n    </tr>\n    <tr>\n      <th>3</th>\n      <td>3</td>\n      <td>False</td>\n      <td>NaN</td>\n      <td>16000000</td>\n      <td>[Comedy, Drama, Romance]</td>\n      <td>NaN</td>\n      <td>31357</td>\n      <td>tt0114885</td>\n      <td>en</td>\n      <td>Waiting to Exhale</td>\n      <td>...</td>\n      <td>6.1</td>\n      <td>34.0</td>\n      <td>1995</td>\n      <td>[whitneyhouston, angelabassett, lorettadevine]</td>\n      <td>[{'credit_id': '52fe44779251416c91011acb', 'de...</td>\n      <td>[basedonnovel, interracialrelationship, single...</td>\n      <td>10</td>\n      <td>10</td>\n      <td>[forestwhitaker, forestwhitaker, forestwhitaker]</td>\n      <td>basedonnovel interracialrelationship singlemot...</td>\n    </tr>\n    <tr>\n      <th>4</th>\n      <td>4</td>\n      <td>False</td>\n      <td>{'id': 96871, 'name': 'Father of the Bride Col...</td>\n      <td>0</td>\n      <td>[Comedy]</td>\n      <td>NaN</td>\n      <td>11862</td>\n      <td>tt0113041</td>\n      <td>en</td>\n      <td>Father of the Bride Part II</td>\n      <td>...</td>\n      <td>5.7</td>\n      <td>173.0</td>\n      <td>1995</td>\n      <td>[stevemartin, dianekeaton, martinshort]</td>\n      <td>[{'credit_id': '52fe44959251416c75039ed7', 'de...</td>\n      <td>[babi, midlifecrisi, confid, age, daughter, mo...</td>\n      <td>12</td>\n      <td>7</td>\n      <td>[charlesshyer, charlesshyer, charlesshyer]</td>\n      <td>babi midlifecrisi confid age daughter motherda...</td>\n    </tr>\n    <tr>\n      <th>...</th>\n      <td>...</td>\n      <td>...</td>\n      <td>...</td>\n      <td>...</td>\n      <td>...</td>\n      <td>...</td>\n      <td>...</td>\n      <td>...</td>\n      <td>...</td>\n      <td>...</td>\n      <td>...</td>\n      <td>...</td>\n      <td>...</td>\n      <td>...</td>\n      <td>...</td>\n      <td>...</td>\n      <td>...</td>\n      <td>...</td>\n      <td>...</td>\n      <td>...</td>\n      <td>...</td>\n    </tr>\n    <tr>\n      <th>9214</th>\n      <td>40952</td>\n      <td>False</td>\n      <td>NaN</td>\n      <td>8000000</td>\n      <td>[Drama]</td>\n      <td>NaN</td>\n      <td>159550</td>\n      <td>tt0255313</td>\n      <td>en</td>\n      <td>The Last Brickmaker in America</td>\n      <td>...</td>\n      <td>7.0</td>\n      <td>1.0</td>\n      <td>2001</td>\n      <td>[sidneypoitier, wendycrewson, jayo.sanders]</td>\n      <td>[{'credit_id': '544475aac3a36819fb000578', 'de...</td>\n      <td>[friendship]</td>\n      <td>7</td>\n      <td>2</td>\n      <td>[greggchampion, greggchampion, greggchampion]</td>\n      <td>friendship sidneypoitier wendycrewson jayo.san...</td>\n    </tr>\n    <tr>\n      <th>9215</th>\n      <td>41172</td>\n      <td>False</td>\n      <td>NaN</td>\n      <td>1000000</td>\n      <td>[Thriller, Romance]</td>\n      <td>NaN</td>\n      <td>392572</td>\n      <td>tt5165344</td>\n      <td>hi</td>\n      <td>रुस्तम</td>\n      <td>...</td>\n      <td>7.3</td>\n      <td>25.0</td>\n      <td>2016</td>\n      <td>[akshaykumar, ileanad'cruz, eshagupta]</td>\n      <td>[{'credit_id': '5951baf692514129c4016600', 'de...</td>\n      <td>[bollywood]</td>\n      <td>14</td>\n      <td>16</td>\n      <td>[tinusureshdesai, tinusureshdesai, tinusureshd...</td>\n      <td>bollywood akshaykumar ileanad'cruz eshagupta t...</td>\n    </tr>\n    <tr>\n      <th>9216</th>\n      <td>41225</td>\n      <td>False</td>\n      <td>NaN</td>\n      <td>15050000</td>\n      <td>[Adventure, Drama, History, Romance]</td>\n      <td>NaN</td>\n      <td>402672</td>\n      <td>tt3859980</td>\n      <td>hi</td>\n      <td>Mohenjo Daro</td>\n      <td>...</td>\n      <td>6.7</td>\n      <td>26.0</td>\n      <td>2016</td>\n      <td>[hrithikroshan, poojahegde, kabirbedi]</td>\n      <td>[{'credit_id': '57cd5d3592514179d50018e8', 'de...</td>\n      <td>[bollywood]</td>\n      <td>12</td>\n      <td>16</td>\n      <td>[ashutoshgowariker, ashutoshgowariker, ashutos...</td>\n      <td>bollywood hrithikroshan poojahegde kabirbedi a...</td>\n    </tr>\n    <tr>\n      <th>9217</th>\n      <td>41391</td>\n      <td>False</td>\n      <td>NaN</td>\n      <td>15000000</td>\n      <td>[Action, Adventure, Drama, Horror, Science Fic...</td>\n      <td>NaN</td>\n      <td>315011</td>\n      <td>tt4262980</td>\n      <td>ja</td>\n      <td>シン・ゴジラ</td>\n      <td>...</td>\n      <td>6.6</td>\n      <td>152.0</td>\n      <td>2016</td>\n      <td>[hirokihasegawa, yutakatakenouchi, satomiishih...</td>\n      <td>[{'credit_id': '560892fa92514177550018b2', 'de...</td>\n      <td>[monster, godzilla, giantmonst, destruct, kaiju]</td>\n      <td>49</td>\n      <td>27</td>\n      <td>[hideakianno, hideakianno, hideakianno]</td>\n      <td>monster godzilla giantmonst destruct kaiju hir...</td>\n    </tr>\n    <tr>\n      <th>9218</th>\n      <td>41669</td>\n      <td>False</td>\n      <td>NaN</td>\n      <td>0</td>\n      <td>[Documentary, Music]</td>\n      <td>http://www.thebeatlesliveproject.com/</td>\n      <td>391698</td>\n      <td>tt2531318</td>\n      <td>en</td>\n      <td>The Beatles: Eight Days a Week - The Touring Y...</td>\n      <td>...</td>\n      <td>7.6</td>\n      <td>92.0</td>\n      <td>2016</td>\n      <td>[paulmccartney, ringostarr, johnlennon]</td>\n      <td>[{'credit_id': '57057c6cc3a3680dca000285', 'de...</td>\n      <td>[music, documentari]</td>\n      <td>28</td>\n      <td>7</td>\n      <td>[ronhoward, ronhoward, ronhoward]</td>\n      <td>music documentari paulmccartney ringostarr joh...</td>\n    </tr>\n  </tbody>\n</table>\n<p>9219 rows × 33 columns</p>\n</div>"
     },
     "execution_count": 355,
     "metadata": {},
     "output_type": "execute_result"
    }
   ],
   "source": [
    "smd"
   ],
   "metadata": {
    "collapsed": false
   }
  },
  {
   "cell_type": "code",
   "execution_count": 355,
   "outputs": [],
   "source": [],
   "metadata": {
    "collapsed": false
   }
  }
 ],
 "metadata": {
  "kernelspec": {
   "display_name": "Python 3",
   "language": "python",
   "name": "python3"
  },
  "language_info": {
   "codemirror_mode": {
    "name": "ipython",
    "version": 3
   },
   "file_extension": ".py",
   "mimetype": "text/x-python",
   "name": "python",
   "nbconvert_exporter": "python",
   "pygments_lexer": "ipython3",
   "version": "3.6.3"
  }
 },
 "nbformat": 4,
 "nbformat_minor": 1
}
